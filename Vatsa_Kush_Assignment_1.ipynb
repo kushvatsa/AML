{
  "nbformat": 4,
  "nbformat_minor": 0,
  "metadata": {
    "colab": {
      "name": "Vatsa_Kush_Assignment_1.ipynb",
      "provenance": [],
      "collapsed_sections": [],
      "include_colab_link": true
    },
    "kernelspec": {
      "name": "python3",
      "display_name": "Python 3"
    },
    "language_info": {
      "name": "python"
    },
    "accelerator": "GPU"
  },
  "cells": [
    {
      "cell_type": "markdown",
      "metadata": {
        "id": "view-in-github",
        "colab_type": "text"
      },
      "source": [
        "<a href=\"https://colab.research.google.com/github/kushvatsa/AML/blob/main/Vatsa_Kush_Assignment_1.ipynb\" target=\"_parent\"><img src=\"https://colab.research.google.com/assets/colab-badge.svg\" alt=\"Open In Colab\"/></a>"
      ]
    },
    {
      "cell_type": "markdown",
      "metadata": {
        "id": "zEDn-XVuJ-Hq"
      },
      "source": [
        "# Assignment 1\n",
        "\n",
        "## General information\n",
        "\n",
        "Upload the solution to canvas. You will get a grade after you've successfully presented it.\n",
        "\n",
        "*Deadlines and grades*:\n",
        "* 2021.09.28 - 2021.10.12 ==> 4\n",
        "* 2021.10.13 - 2021.10.19 ==> 3\n",
        "* 2021.10.20 - 2021.10.26 ==> 2\n",
        "* 2021.10.27 or later ==> 1\n",
        "\n",
        "Note: You can get +1 grade, after you prepare a paper+code presentation, or do an extra task within the 2nd assignment.\n",
        "\n",
        "## Description\n",
        "\n",
        "In this assignment you have to build and train a multimodal deep neural network for emotion detection using tf.keras/pytorch. You have to work with the FER2013 dataset, which contains more than 28000 images. The images are automatically gathered, so there can be mislabeled or bad quality samples as well. Do your best!\n",
        "\n",
        "Every image has a single label from the following list: Angry, Disgust, Fear, Happy, Sad, Surprise, Neutral.\n",
        "\n",
        "## What must be done\n",
        "\n",
        "You have to train 2 separate models using the original imbalanced and balanced data. Balacing can be done by resampling (undersampling the majority and oversampling the minority classes) or by loss function weighting (bigger error on minority samples).\n",
        "\n",
        "Therefore the analysis should be done twice, then compare the classification performances and confusion matrices.\n",
        "\n",
        "## Example pipeline\n",
        "\n",
        "There is no constraint, you can preprocess the data as you wish, use any DNN (or Transformer architecture) for training, etc. The expected solution should contain data loading and visualization, preprocessing, model definition, training and evaluation.\n",
        "\n",
        "Here, there is an example pipeline with such details to help you out:\n",
        "* Download the FER2013 dataset, it is available in csv format at the following link: nipg1.inf.elte.hu:8765/fer2013.csv (if the file is unreachable, write an email)\n",
        "* You have to solve a classification task.\n",
        "* Preprocess the data and visualize samples\n",
        "  * gather the images, separate the train-valid-test subsets (Training, PublicTest, PrivateTest)\n",
        "  * resize the images: original size is 48x48, networks usually expect e.g. 224x224x3 images. Do the resizing part during data augmentation, otherwise you run out of Colab resources.\n",
        "  * all images are grayscale with a single value. duplicate the channel dimension if necessary to transform (H,W) to (H,W,3)\n",
        "  * plot label histogram\n",
        "* Define train-valid-test dataloaders\n",
        "  * augment and normalize the input images. (standardize the inputs using the dataset mean/std values, or a preprocess function expected by a pretrained network) - you can use a resize transform to get 240x240x3 images then apply a 224x224x3 randomcrop. \n",
        "* Define and train a model\n",
        "  * define a model (e.g. VGG11 or ResNet18, etc)\n",
        "  * define the loss function, optimizer\n",
        "  * use early stopping and a learning rate scheduler\n",
        "  * train the model using the training and validation subsets\n",
        "  * plot the training/validation curve\n",
        "* Evaluation\n",
        "  * evaluate the model on the test set\n",
        "  * print/plot classification results and confusion matrix\n",
        "  * visualize some misclassified samples\n",
        "\n",
        "At this point, you have the results for the imbalanced case. \n",
        "\n",
        "* Balancing\n",
        "  * Modify it slighthly in the dataloader (resampling) or at loss definition (weighting).\n",
        "* Compare the classification metrics and confusion matrices\n",
        "\n",
        "# Use GPU\n",
        "Runtime -> Change runtime type\n",
        "\n",
        "At Hardware accelerator select GPU then save it.\n",
        "\n",
        "\n",
        "# Useful shortcuts\n",
        "* Run selected cell: *Ctrl + Enter*\n",
        "* Insert cell below: *Ctrl + M B*\n",
        "* Insert cell above: *Ctrl + M A*\n",
        "* Convert to text: *Ctrl + M M*\n",
        "* Split at cursor: *Ctrl + M -*\n",
        "* Autocomplete: *Ctrl + Space* or *Tab*\n",
        "* Move selected cells up: *Ctrl + M J*\n",
        "* Move selected cells down: *Ctrl + M K*\n",
        "* Delete selected cells: *Ctrl + M D*"
      ]
    },
    {
      "cell_type": "code",
      "metadata": {
        "colab": {
          "base_uri": "https://localhost:8080/"
        },
        "id": "lpOgVdHoJ2w7",
        "outputId": "3e8f74fe-5ace-424d-ccb0-2a790a88c958"
      },
      "source": [
        "!wget nipg1.inf.elte.hu:8765/fer2013.csv"
      ],
      "execution_count": 1,
      "outputs": [
        {
          "output_type": "stream",
          "name": "stdout",
          "text": [
            "--2021-10-12 18:51:05--  http://nipg1.inf.elte.hu:8765/fer2013.csv\n",
            "Resolving nipg1.inf.elte.hu (nipg1.inf.elte.hu)... 157.181.160.161\n",
            "Connecting to nipg1.inf.elte.hu (nipg1.inf.elte.hu)|157.181.160.161|:8765... connected.\n",
            "HTTP request sent, awaiting response... 200 OK\n",
            "Length: 301072766 (287M) [text/csv]\n",
            "Saving to: ‘fer2013.csv’\n",
            "\n",
            "fer2013.csv         100%[===================>] 287.12M  22.8MB/s    in 13s     \n",
            "\n",
            "2021-10-12 18:51:19 (21.6 MB/s) - ‘fer2013.csv’ saved [301072766/301072766]\n",
            "\n"
          ]
        }
      ]
    },
    {
      "cell_type": "markdown",
      "metadata": {
        "id": "U1cSJ2Nc5-gG"
      },
      "source": [
        "**Name: Vatsa Kush**  \n",
        "**Neptun ID: I3B326** "
      ]
    },
    {
      "cell_type": "code",
      "metadata": {
        "id": "fyxGWytK14zl"
      },
      "source": [
        "import pandas as pd\n",
        "import numpy as np\n",
        "import matplotlib.pyplot as plt\n",
        "import seaborn as sns\n",
        "%matplotlib inline\n",
        "\n",
        "data = pd.read_csv('fer2013.csv')"
      ],
      "execution_count": 2,
      "outputs": []
    },
    {
      "cell_type": "markdown",
      "metadata": {
        "id": "mXnpDbRWoyaL"
      },
      "source": [
        "## Preprocessing"
      ]
    },
    {
      "cell_type": "code",
      "metadata": {
        "id": "NSYQevz-2ETh",
        "colab": {
          "base_uri": "https://localhost:8080/"
        },
        "outputId": "5adbc0d0-b299-4134-b88d-2fee8ab3e032"
      },
      "source": [
        "data.shape"
      ],
      "execution_count": 3,
      "outputs": [
        {
          "output_type": "execute_result",
          "data": {
            "text/plain": [
              "(35887, 3)"
            ]
          },
          "metadata": {},
          "execution_count": 3
        }
      ]
    },
    {
      "cell_type": "code",
      "metadata": {
        "id": "v9JzOzya7lVA",
        "colab": {
          "base_uri": "https://localhost:8080/"
        },
        "outputId": "03d72c75-c94a-4dcf-b40b-60af649dca73"
      },
      "source": [
        "data.head"
      ],
      "execution_count": 4,
      "outputs": [
        {
          "output_type": "execute_result",
          "data": {
            "text/plain": [
              "<bound method NDFrame.head of        emotion                                             pixels        Usage\n",
              "0            0  70 80 82 72 58 58 60 63 54 58 60 48 89 115 121...     Training\n",
              "1            0  151 150 147 155 148 133 111 140 170 174 182 15...     Training\n",
              "2            2  231 212 156 164 174 138 161 173 182 200 106 38...     Training\n",
              "3            4  24 32 36 30 32 23 19 20 30 41 21 22 32 34 21 1...     Training\n",
              "4            6  4 0 0 0 0 0 0 0 0 0 0 0 3 15 23 28 48 50 58 84...     Training\n",
              "...        ...                                                ...          ...\n",
              "35882        6  50 36 17 22 23 29 33 39 34 37 37 37 39 43 48 5...  PrivateTest\n",
              "35883        3  178 174 172 173 181 188 191 194 196 199 200 20...  PrivateTest\n",
              "35884        0  17 17 16 23 28 22 19 17 25 26 20 24 31 19 27 9...  PrivateTest\n",
              "35885        3  30 28 28 29 31 30 42 68 79 81 77 67 67 71 63 6...  PrivateTest\n",
              "35886        2  19 13 14 12 13 16 21 33 50 57 71 84 97 108 122...  PrivateTest\n",
              "\n",
              "[35887 rows x 3 columns]>"
            ]
          },
          "metadata": {},
          "execution_count": 4
        }
      ]
    },
    {
      "cell_type": "markdown",
      "metadata": {
        "id": "9NikPnkKNK9i"
      },
      "source": [
        "**Splitting Dataset**"
      ]
    },
    {
      "cell_type": "code",
      "metadata": {
        "id": "ZY3uTF-LM6id"
      },
      "source": [
        "train_data = data[data[\"Usage\"]==\"Training\"]\n",
        "validation_data = data[data[\"Usage\"]==\"PublicTest\"]\n",
        "test_data = data[data[\"Usage\"]==\"PrivateTest\"]"
      ],
      "execution_count": 5,
      "outputs": []
    },
    {
      "cell_type": "code",
      "metadata": {
        "id": "O-sNq4CxLegT",
        "colab": {
          "base_uri": "https://localhost:8080/"
        },
        "outputId": "ae0a31bd-bca5-4873-a672-78bfdd35cfc1"
      },
      "source": [
        "train_data.shape,test_data.shape,validation_data.shape"
      ],
      "execution_count": 6,
      "outputs": [
        {
          "output_type": "execute_result",
          "data": {
            "text/plain": [
              "((28709, 3), (3589, 3), (3589, 3))"
            ]
          },
          "metadata": {},
          "execution_count": 6
        }
      ]
    },
    {
      "cell_type": "code",
      "metadata": {
        "id": "YrPwLsxhPI8q",
        "colab": {
          "base_uri": "https://localhost:8080/",
          "height": 419
        },
        "outputId": "2c1ee39d-e502-4ffb-fe8c-b2e37d171c61"
      },
      "source": [
        "test_data"
      ],
      "execution_count": 7,
      "outputs": [
        {
          "output_type": "execute_result",
          "data": {
            "text/html": [
              "<div>\n",
              "<style scoped>\n",
              "    .dataframe tbody tr th:only-of-type {\n",
              "        vertical-align: middle;\n",
              "    }\n",
              "\n",
              "    .dataframe tbody tr th {\n",
              "        vertical-align: top;\n",
              "    }\n",
              "\n",
              "    .dataframe thead th {\n",
              "        text-align: right;\n",
              "    }\n",
              "</style>\n",
              "<table border=\"1\" class=\"dataframe\">\n",
              "  <thead>\n",
              "    <tr style=\"text-align: right;\">\n",
              "      <th></th>\n",
              "      <th>emotion</th>\n",
              "      <th>pixels</th>\n",
              "      <th>Usage</th>\n",
              "    </tr>\n",
              "  </thead>\n",
              "  <tbody>\n",
              "    <tr>\n",
              "      <th>32298</th>\n",
              "      <td>0</td>\n",
              "      <td>170 118 101 88 88 75 78 82 66 74 68 59 63 64 6...</td>\n",
              "      <td>PrivateTest</td>\n",
              "    </tr>\n",
              "    <tr>\n",
              "      <th>32299</th>\n",
              "      <td>5</td>\n",
              "      <td>7 5 8 6 7 3 2 6 5 4 4 5 7 5 5 5 6 7 7 7 10 10 ...</td>\n",
              "      <td>PrivateTest</td>\n",
              "    </tr>\n",
              "    <tr>\n",
              "      <th>32300</th>\n",
              "      <td>6</td>\n",
              "      <td>232 240 241 239 237 235 246 117 24 24 22 13 12...</td>\n",
              "      <td>PrivateTest</td>\n",
              "    </tr>\n",
              "    <tr>\n",
              "      <th>32301</th>\n",
              "      <td>4</td>\n",
              "      <td>200 197 149 139 156 89 111 58 62 95 113 117 11...</td>\n",
              "      <td>PrivateTest</td>\n",
              "    </tr>\n",
              "    <tr>\n",
              "      <th>32302</th>\n",
              "      <td>2</td>\n",
              "      <td>40 28 33 56 45 33 31 78 152 194 200 186 196 20...</td>\n",
              "      <td>PrivateTest</td>\n",
              "    </tr>\n",
              "    <tr>\n",
              "      <th>...</th>\n",
              "      <td>...</td>\n",
              "      <td>...</td>\n",
              "      <td>...</td>\n",
              "    </tr>\n",
              "    <tr>\n",
              "      <th>35882</th>\n",
              "      <td>6</td>\n",
              "      <td>50 36 17 22 23 29 33 39 34 37 37 37 39 43 48 5...</td>\n",
              "      <td>PrivateTest</td>\n",
              "    </tr>\n",
              "    <tr>\n",
              "      <th>35883</th>\n",
              "      <td>3</td>\n",
              "      <td>178 174 172 173 181 188 191 194 196 199 200 20...</td>\n",
              "      <td>PrivateTest</td>\n",
              "    </tr>\n",
              "    <tr>\n",
              "      <th>35884</th>\n",
              "      <td>0</td>\n",
              "      <td>17 17 16 23 28 22 19 17 25 26 20 24 31 19 27 9...</td>\n",
              "      <td>PrivateTest</td>\n",
              "    </tr>\n",
              "    <tr>\n",
              "      <th>35885</th>\n",
              "      <td>3</td>\n",
              "      <td>30 28 28 29 31 30 42 68 79 81 77 67 67 71 63 6...</td>\n",
              "      <td>PrivateTest</td>\n",
              "    </tr>\n",
              "    <tr>\n",
              "      <th>35886</th>\n",
              "      <td>2</td>\n",
              "      <td>19 13 14 12 13 16 21 33 50 57 71 84 97 108 122...</td>\n",
              "      <td>PrivateTest</td>\n",
              "    </tr>\n",
              "  </tbody>\n",
              "</table>\n",
              "<p>3589 rows × 3 columns</p>\n",
              "</div>"
            ],
            "text/plain": [
              "       emotion                                             pixels        Usage\n",
              "32298        0  170 118 101 88 88 75 78 82 66 74 68 59 63 64 6...  PrivateTest\n",
              "32299        5  7 5 8 6 7 3 2 6 5 4 4 5 7 5 5 5 6 7 7 7 10 10 ...  PrivateTest\n",
              "32300        6  232 240 241 239 237 235 246 117 24 24 22 13 12...  PrivateTest\n",
              "32301        4  200 197 149 139 156 89 111 58 62 95 113 117 11...  PrivateTest\n",
              "32302        2  40 28 33 56 45 33 31 78 152 194 200 186 196 20...  PrivateTest\n",
              "...        ...                                                ...          ...\n",
              "35882        6  50 36 17 22 23 29 33 39 34 37 37 37 39 43 48 5...  PrivateTest\n",
              "35883        3  178 174 172 173 181 188 191 194 196 199 200 20...  PrivateTest\n",
              "35884        0  17 17 16 23 28 22 19 17 25 26 20 24 31 19 27 9...  PrivateTest\n",
              "35885        3  30 28 28 29 31 30 42 68 79 81 77 67 67 71 63 6...  PrivateTest\n",
              "35886        2  19 13 14 12 13 16 21 33 50 57 71 84 97 108 122...  PrivateTest\n",
              "\n",
              "[3589 rows x 3 columns]"
            ]
          },
          "metadata": {},
          "execution_count": 7
        }
      ]
    },
    {
      "cell_type": "code",
      "metadata": {
        "id": "FSWZ1yMyNijq"
      },
      "source": [
        "def toPixels(pixels):\n",
        "\n",
        "    val = np.array(pixels.split(),\"float64\")\n",
        "    return val"
      ],
      "execution_count": 8,
      "outputs": []
    },
    {
      "cell_type": "code",
      "metadata": {
        "id": "3-L_PGyeN2Xz",
        "colab": {
          "base_uri": "https://localhost:8080/"
        },
        "outputId": "02787c8b-5b68-4107-d0a0-75a880e37838"
      },
      "source": [
        "train_data[\"pixels\"] = train_data[\"pixels\"].apply(toPixels)\n",
        "validation_data[\"pixels\"] = validation_data[\"pixels\"].apply(toPixels)\n",
        "test_data[\"pixels\"] = test_data[\"pixels\"].apply(toPixels)"
      ],
      "execution_count": 9,
      "outputs": [
        {
          "output_type": "stream",
          "name": "stderr",
          "text": [
            "/usr/local/lib/python3.7/dist-packages/ipykernel_launcher.py:1: SettingWithCopyWarning: \n",
            "A value is trying to be set on a copy of a slice from a DataFrame.\n",
            "Try using .loc[row_indexer,col_indexer] = value instead\n",
            "\n",
            "See the caveats in the documentation: https://pandas.pydata.org/pandas-docs/stable/user_guide/indexing.html#returning-a-view-versus-a-copy\n",
            "  \"\"\"Entry point for launching an IPython kernel.\n",
            "/usr/local/lib/python3.7/dist-packages/ipykernel_launcher.py:2: SettingWithCopyWarning: \n",
            "A value is trying to be set on a copy of a slice from a DataFrame.\n",
            "Try using .loc[row_indexer,col_indexer] = value instead\n",
            "\n",
            "See the caveats in the documentation: https://pandas.pydata.org/pandas-docs/stable/user_guide/indexing.html#returning-a-view-versus-a-copy\n",
            "  \n",
            "/usr/local/lib/python3.7/dist-packages/ipykernel_launcher.py:3: SettingWithCopyWarning: \n",
            "A value is trying to be set on a copy of a slice from a DataFrame.\n",
            "Try using .loc[row_indexer,col_indexer] = value instead\n",
            "\n",
            "See the caveats in the documentation: https://pandas.pydata.org/pandas-docs/stable/user_guide/indexing.html#returning-a-view-versus-a-copy\n",
            "  This is separate from the ipykernel package so we can avoid doing imports until\n"
          ]
        }
      ]
    },
    {
      "cell_type": "markdown",
      "metadata": {
        "id": "x_X2YdV1OZ8Y"
      },
      "source": [
        "**Images and Labels for 3 datasets**"
      ]
    },
    {
      "cell_type": "code",
      "metadata": {
        "id": "UK8iG0WtOAlM"
      },
      "source": [
        "def reshapeImg(df):\n",
        "\n",
        "    imgs = np.reshape(df[\"pixels\"].to_list(),(df.shape[0],48,48,1))\n",
        "\n",
        "    return imgs"
      ],
      "execution_count": 10,
      "outputs": []
    },
    {
      "cell_type": "code",
      "metadata": {
        "id": "BgKDLmGAOeca"
      },
      "source": [
        "train_imgs = reshapeImg(train_data)\n",
        "validation_imgs = reshapeImg(validation_data)\n",
        "test_imgs = reshapeImg(test_data)\n",
        "\n",
        "train_labels = train_data[\"emotion\"]\n",
        "validation_labels = validation_data[\"emotion\"]\n",
        "test_labels = test_data[\"emotion\"]"
      ],
      "execution_count": 11,
      "outputs": []
    },
    {
      "cell_type": "code",
      "metadata": {
        "id": "qbSKGz_JRi57",
        "colab": {
          "base_uri": "https://localhost:8080/"
        },
        "outputId": "6299cfc2-0a63-43b4-92f5-6a4dacf5b085"
      },
      "source": [
        "train_imgs.shape"
      ],
      "execution_count": 12,
      "outputs": [
        {
          "output_type": "execute_result",
          "data": {
            "text/plain": [
              "(28709, 48, 48, 1)"
            ]
          },
          "metadata": {},
          "execution_count": 12
        }
      ]
    },
    {
      "cell_type": "code",
      "metadata": {
        "id": "TPIKqrPnJ-Q7",
        "colab": {
          "base_uri": "https://localhost:8080/"
        },
        "outputId": "4ba7f98d-808e-4e02-d741-f83de469c8c8"
      },
      "source": [
        "emotion_names = {0 : 'Angry', 1 : 'Disgust', 2 : 'Fear', 3 : 'Happiness', 4 : 'Sad', 5 : 'Surprise', 6 : 'Neutral'}\n",
        "emotion_names"
      ],
      "execution_count": 13,
      "outputs": [
        {
          "output_type": "execute_result",
          "data": {
            "text/plain": [
              "{0: 'Angry',\n",
              " 1: 'Disgust',\n",
              " 2: 'Fear',\n",
              " 3: 'Happiness',\n",
              " 4: 'Sad',\n",
              " 5: 'Surprise',\n",
              " 6: 'Neutral'}"
            ]
          },
          "metadata": {},
          "execution_count": 13
        }
      ]
    },
    {
      "cell_type": "code",
      "metadata": {
        "id": "FQKGrXW5QDYl"
      },
      "source": [
        "def plotImages(x,y):\n",
        "  for ix in range(4):\n",
        "      plt.figure(ix)\n",
        "      plt.imshow(x[ix].reshape((48, 48)), interpolation='none', cmap='gray')\n",
        "      plt.axis(\"off\")\n",
        "      plt.title(emotion_names[y[ix]])\n",
        "      plt.show()"
      ],
      "execution_count": 14,
      "outputs": []
    },
    {
      "cell_type": "code",
      "metadata": {
        "id": "XTvo0n6uQHQ-",
        "colab": {
          "base_uri": "https://localhost:8080/",
          "height": 1000
        },
        "outputId": "cdbaca25-5a03-46dc-c661-09c1a49687e7"
      },
      "source": [
        "plotImages(train_imgs,train_labels)"
      ],
      "execution_count": 15,
      "outputs": [
        {
          "output_type": "display_data",
          "data": {
            "image/png": "[encoded data removed]",
            "text/plain": [
              "<Figure size 432x288 with 1 Axes>"
            ]
          },
          "metadata": {
            "needs_background": "light"
          }
        },
        {
          "output_type": "display_data",
          "data": {
            "image/png": "[encoded data removed]",
            "text/plain": [
              "<Figure size 432x288 with 1 Axes>"
            ]
          },
          "metadata": {
            "needs_background": "light"
          }
        },
        {
          "output_type": "display_data",
          "data": {
            "image/png": "[encoded data removed]",
            "text/plain": [
              "<Figure size 432x288 with 1 Axes>"
            ]
          },
          "metadata": {
            "needs_background": "light"
          }
        },
        {
          "output_type": "display_data",
          "data": {
            "image/png": "[encoded data removed]",
            "text/plain": [
              "<Figure size 432x288 with 1 Axes>"
            ]
          },
          "metadata": {
            "needs_background": "light"
          }
        }
      ]
    },
    {
      "cell_type": "code",
      "metadata": {
        "id": "GuSXpDbYvdQn",
        "colab": {
          "base_uri": "https://localhost:8080/"
        },
        "outputId": "861ee256-204a-47a0-d2ce-6082a2cb9789"
      },
      "source": [
        "train_imgs.shape"
      ],
      "execution_count": 16,
      "outputs": [
        {
          "output_type": "execute_result",
          "data": {
            "text/plain": [
              "(28709, 48, 48, 1)"
            ]
          },
          "metadata": {},
          "execution_count": 16
        }
      ]
    },
    {
      "cell_type": "markdown",
      "metadata": {
        "id": "IxUAicfAqAWf"
      },
      "source": [
        "## Training the models"
      ]
    },
    {
      "cell_type": "code",
      "metadata": {
        "id": "_3eTbgy3oIJA"
      },
      "source": [
        "%tensorflow_version 2.x\n",
        "import tensorflow as tf\n",
        "from tensorflow import keras\n",
        "from tensorflow.keras.models import *\n",
        "from tensorflow.keras.layers import *\n",
        "from tensorflow.keras.callbacks import ModelCheckpoint, LearningRateScheduler, EarlyStopping, ModelCheckpoint\n",
        "from keras.models import Sequential\n",
        "from keras.layers import Dense,Conv2D,MaxPooling2D,Dense,Flatten,Dropout"
      ],
      "execution_count": 17,
      "outputs": []
    },
    {
      "cell_type": "code",
      "metadata": {
        "id": "f1mrVlYnojj9",
        "colab": {
          "base_uri": "https://localhost:8080/"
        },
        "outputId": "c502c5fa-3347-451a-fed6-64d8cee570d0"
      },
      "source": [
        "model = Sequential()\n",
        "model.add(Conv2D(filters=8, kernel_size=(5, 5), activation='relu'))\n",
        "model.add(MaxPooling2D())\n",
        "model.add(Conv2D(filters=16, kernel_size=(3, 3), activation='relu'))\n",
        "model.add(MaxPooling2D())\n",
        "model.add(Flatten())\n",
        "model.add(Dense(units=100, activation='relu'))\n",
        "model.add(Dense(units=60, activation='relu'))\n",
        "model.add(Dense(units=10, activation = 'softmax'))\n",
        "\n",
        "#learning rate scheduler\n",
        "adam = keras.optimizers.Adam(learning_rate=0.0001)\n",
        "model.compile(loss=\"sparse_categorical_crossentropy\",optimizer=adam,metrics=[\"accuracy\"])\n",
        "\n",
        "#early stopping\n",
        "early_stopping = EarlyStopping(patience=10, restore_best_weights=True)\n",
        "report=model.fit(train_imgs,train_labels,epochs=50,batch_size=64,validation_data=(validation_imgs,validation_labels),callbacks=[early_stopping])\n",
        "model.summary()"
      ],
      "execution_count": 18,
      "outputs": [
        {
          "output_type": "stream",
          "name": "stdout",
          "text": [
            "Epoch 1/50\n",
            "449/449 [==============================] - 33s 8ms/step - loss: 4.6424 - accuracy: 0.1910 - val_loss: 2.4098 - val_accuracy: 0.2338\n",
            "Epoch 2/50\n",
            "449/449 [==============================] - 3s 7ms/step - loss: 2.1611 - accuracy: 0.2523 - val_loss: 1.9916 - val_accuracy: 0.2519\n",
            "Epoch 3/50\n",
            "449/449 [==============================] - 3s 7ms/step - loss: 1.8661 - accuracy: 0.2971 - val_loss: 1.8770 - val_accuracy: 0.3079\n",
            "Epoch 4/50\n",
            "449/449 [==============================] - 3s 7ms/step - loss: 1.7438 - accuracy: 0.3378 - val_loss: 1.7380 - val_accuracy: 0.3363\n",
            "Epoch 5/50\n",
            "449/449 [==============================] - 3s 7ms/step - loss: 1.6645 - accuracy: 0.3666 - val_loss: 1.6984 - val_accuracy: 0.3555\n",
            "Epoch 6/50\n",
            "449/449 [==============================] - 3s 7ms/step - loss: 1.6080 - accuracy: 0.3879 - val_loss: 1.6602 - val_accuracy: 0.3742\n",
            "Epoch 7/50\n",
            "449/449 [==============================] - 3s 7ms/step - loss: 1.5604 - accuracy: 0.4092 - val_loss: 1.6369 - val_accuracy: 0.3859\n",
            "Epoch 8/50\n",
            "449/449 [==============================] - 3s 7ms/step - loss: 1.5203 - accuracy: 0.4271 - val_loss: 1.6103 - val_accuracy: 0.3943\n",
            "Epoch 9/50\n",
            "449/449 [==============================] - 3s 7ms/step - loss: 1.4806 - accuracy: 0.4412 - val_loss: 1.5848 - val_accuracy: 0.4093\n",
            "Epoch 10/50\n",
            "449/449 [==============================] - 3s 8ms/step - loss: 1.4491 - accuracy: 0.4556 - val_loss: 1.5880 - val_accuracy: 0.4051\n",
            "Epoch 11/50\n",
            "449/449 [==============================] - 3s 8ms/step - loss: 1.4116 - accuracy: 0.4717 - val_loss: 1.5599 - val_accuracy: 0.4205\n",
            "Epoch 12/50\n",
            "449/449 [==============================] - 3s 8ms/step - loss: 1.3773 - accuracy: 0.4859 - val_loss: 1.5744 - val_accuracy: 0.4118\n",
            "Epoch 13/50\n",
            "449/449 [==============================] - 3s 8ms/step - loss: 1.3408 - accuracy: 0.4993 - val_loss: 1.5398 - val_accuracy: 0.4302\n",
            "Epoch 14/50\n",
            "449/449 [==============================] - 3s 7ms/step - loss: 1.3070 - accuracy: 0.5137 - val_loss: 1.5510 - val_accuracy: 0.4302\n",
            "Epoch 15/50\n",
            "449/449 [==============================] - 3s 7ms/step - loss: 1.2707 - accuracy: 0.5264 - val_loss: 1.5546 - val_accuracy: 0.4196\n",
            "Epoch 16/50\n",
            "449/449 [==============================] - 3s 7ms/step - loss: 1.2326 - accuracy: 0.5436 - val_loss: 1.5431 - val_accuracy: 0.4324\n",
            "Epoch 17/50\n",
            "449/449 [==============================] - 3s 7ms/step - loss: 1.1944 - accuracy: 0.5609 - val_loss: 1.5445 - val_accuracy: 0.4338\n",
            "Epoch 18/50\n",
            "449/449 [==============================] - 3s 8ms/step - loss: 1.1612 - accuracy: 0.5716 - val_loss: 1.5661 - val_accuracy: 0.4447\n",
            "Epoch 19/50\n",
            "449/449 [==============================] - 3s 7ms/step - loss: 1.1223 - accuracy: 0.5878 - val_loss: 1.5833 - val_accuracy: 0.4380\n",
            "Epoch 20/50\n",
            "449/449 [==============================] - 3s 7ms/step - loss: 1.0850 - accuracy: 0.6008 - val_loss: 1.5948 - val_accuracy: 0.4489\n",
            "Epoch 21/50\n",
            "449/449 [==============================] - 3s 7ms/step - loss: 1.0453 - accuracy: 0.6168 - val_loss: 1.6497 - val_accuracy: 0.4372\n",
            "Epoch 22/50\n",
            "449/449 [==============================] - 3s 7ms/step - loss: 1.0093 - accuracy: 0.6320 - val_loss: 1.6113 - val_accuracy: 0.4422\n",
            "Epoch 23/50\n",
            "449/449 [==============================] - 3s 7ms/step - loss: 0.9691 - accuracy: 0.6484 - val_loss: 1.6488 - val_accuracy: 0.4464\n",
            "Model: \"sequential\"\n",
            "_________________________________________________________________\n",
            "Layer (type)                 Output Shape              Param #   \n",
            "=================================================================\n",
            "conv2d (Conv2D)              (None, 44, 44, 8)         208       \n",
            "_________________________________________________________________\n",
            "max_pooling2d (MaxPooling2D) (None, 22, 22, 8)         0         \n",
            "_________________________________________________________________\n",
            "conv2d_1 (Conv2D)            (None, 20, 20, 16)        1168      \n",
            "_________________________________________________________________\n",
            "max_pooling2d_1 (MaxPooling2 (None, 10, 10, 16)        0         \n",
            "_________________________________________________________________\n",
            "flatten (Flatten)            (None, 1600)              0         \n",
            "_________________________________________________________________\n",
            "dense (Dense)                (None, 100)               160100    \n",
            "_________________________________________________________________\n",
            "dense_1 (Dense)              (None, 60)                6060      \n",
            "_________________________________________________________________\n",
            "dense_2 (Dense)              (None, 10)                610       \n",
            "=================================================================\n",
            "Total params: 168,146\n",
            "Trainable params: 168,146\n",
            "Non-trainable params: 0\n",
            "_________________________________________________________________\n"
          ]
        }
      ]
    },
    {
      "cell_type": "markdown",
      "metadata": {
        "id": "8aPjJOgFqWBB"
      },
      "source": [
        "##Evaluation"
      ]
    },
    {
      "cell_type": "code",
      "metadata": {
        "id": "YudjTI1E2reZ"
      },
      "source": [
        "def plot_model(report):\n",
        " figure, axs = plt.subplots(1,2, figsize=(15,10))\n",
        "\n",
        " axs[0].plot(report.history[\"accuracy\"],label=\"Training Accuracy\",color='#d62728')\n",
        " axs[0].plot(report.history['val_accuracy'],label=\"Validation Accuracy\", color='#2ca02c')\n",
        " axs[0].set_title(\"Training Accuracy vs Validation Accuracy\")\n",
        " axs[0].set_ylabel('Accuracy')\n",
        " axs[0].set_xlabel('Epoch')\n",
        " axs[0].legend()\n",
        "\n",
        " axs[1].plot(report.history[\"loss\"],label=\"Training Loss\", color='#7f7f7f')\n",
        " axs[1].plot(report.history[\"val_loss\"],label=\"Validation Loss\", color='#bcbd22')\n",
        " axs[1].set_title(\"Training Loss vs Validation Loss\")\n",
        " axs[1].set_ylabel('Loss')\n",
        " axs[1].set_xlabel('Epoch')\n",
        " axs[1].legend()\n",
        "\n",
        " figure.show()\n"
      ],
      "execution_count": 19,
      "outputs": []
    },
    {
      "cell_type": "code",
      "metadata": {
        "id": "wOmyGtgp2vXN",
        "colab": {
          "base_uri": "https://localhost:8080/",
          "height": 621
        },
        "outputId": "6f77df27-cc8e-46f7-c1de-a771761ff0f2"
      },
      "source": [
        "plot_model(report)"
      ],
      "execution_count": 20,
      "outputs": [
        {
          "output_type": "display_data",
          "data": {
            "image/png": "[encoded data removed]",
            "text/plain": [
              "<Figure size 1080x720 with 2 Axes>"
            ]
          },
          "metadata": {
            "needs_background": "light"
          }
        }
      ]
    },
    {
      "cell_type": "code",
      "metadata": {
        "id": "LwJb-1T76PC7"
      },
      "source": [
        "from sklearn.metrics import accuracy_score\n",
        "def accuracy_model(m):\n",
        "\n",
        " resultValid=np.argmax(m.predict(validation_imgs), axis=-1)\n",
        " print(f\"Accuracy on Valid set {accuracy_score(validation_labels,resultValid)}\")\n",
        " \n",
        " resultTest=np.argmax(m.predict(test_imgs), axis=-1)\n",
        " print(f\"Accuracy on Test set {accuracy_score(test_labels,resultTest)}\")"
      ],
      "execution_count": 21,
      "outputs": []
    },
    {
      "cell_type": "code",
      "metadata": {
        "id": "m2e2LL9sjNWs"
      },
      "source": [
        "from sklearn.metrics import confusion_matrix\n",
        "import seaborn as sns\n",
        "def confusion_plot(m):\n",
        "  # Compute confusion matrix:\n",
        "  predict = np.argmax(m.predict(validation_imgs), axis=-1)\n",
        "  cm = confusion_matrix(validation_labels, predict)\n",
        "  cm_normalised = cm.astype('float') / cm.sum(axis=1)[:, np.newaxis]\n",
        "  \n",
        "  ax = sns.heatmap(cm_normalised)"
      ],
      "execution_count": 22,
      "outputs": []
    },
    {
      "cell_type": "code",
      "metadata": {
        "id": "05nVIMEE6rYE",
        "colab": {
          "base_uri": "https://localhost:8080/"
        },
        "outputId": "939b2e77-d2b9-4d18-aaf3-d14896b1955f"
      },
      "source": [
        "accuracy_model(model)"
      ],
      "execution_count": 23,
      "outputs": [
        {
          "output_type": "stream",
          "name": "stdout",
          "text": [
            "Accuracy on Valid set 0.4302033992755642\n",
            "Accuracy on Test set 0.4329896907216495\n"
          ]
        }
      ]
    },
    {
      "cell_type": "code",
      "metadata": {
        "id": "pxruQ6qRtrC3",
        "colab": {
          "base_uri": "https://localhost:8080/",
          "height": 265
        },
        "outputId": "539dd81a-53e4-48f3-9d94-640e910c619f"
      },
      "source": [
        "confusion_plot(model)"
      ],
      "execution_count": 24,
      "outputs": [
        {
          "output_type": "display_data",
          "data": {
            "image/png": "[encoded data removed]",
            "text/plain": [
              "<Figure size 432x288 with 2 Axes>"
            ]
          },
          "metadata": {
            "needs_background": "light"
          }
        }
      ]
    },
    {
      "cell_type": "markdown",
      "metadata": {
        "id": "w5sRfOmAtntM"
      },
      "source": [
        "##Visualizing"
      ]
    },
    {
      "cell_type": "code",
      "metadata": {
        "id": "9RhR55zJKC9_",
        "colab": {
          "base_uri": "https://localhost:8080/",
          "height": 248
        },
        "outputId": "51d30551-e0fc-4a5c-ec1c-e38b964f26ed"
      },
      "source": [
        "img = train_imgs[100]\n",
        "plt.imshow(img.reshape((48, 48)), interpolation='none', cmap='gray')\n",
        "plt.axis(\"off\")\n",
        "plt.show()"
      ],
      "execution_count": 25,
      "outputs": [
        {
          "output_type": "display_data",
          "data": {
            "image/png": "[encoded data removed]",
            "text/plain": [
              "<Figure size 432x288 with 1 Axes>"
            ]
          },
          "metadata": {
            "needs_background": "light"
          }
        }
      ]
    },
    {
      "cell_type": "code",
      "metadata": {
        "id": "fmg9KqPXMibj",
        "colab": {
          "base_uri": "https://localhost:8080/"
        },
        "outputId": "bb3f3713-edb6-40e4-8f2b-f1ebf7093933"
      },
      "source": [
        "x = np.expand_dims(img, axis=0)\n",
        "prediction = np.argmax(model.predict(x))\n",
        "print('The predicted emotion is : ' + emotion_names[prediction])"
      ],
      "execution_count": 26,
      "outputs": [
        {
          "output_type": "stream",
          "name": "stdout",
          "text": [
            "The predicted emotion is : Happiness\n"
          ]
        }
      ]
    },
    {
      "cell_type": "code",
      "metadata": {
        "id": "9A_wpcsLvFpW",
        "colab": {
          "base_uri": "https://localhost:8080/",
          "height": 248
        },
        "outputId": "bb53e9be-6789-4fa4-bd3d-68b260a00e56"
      },
      "source": [
        "img2 = train_imgs[547]\n",
        "plt.imshow(img2.reshape((48, 48)), interpolation='none', cmap='gray')\n",
        "plt.axis(\"off\")\n",
        "plt.show()"
      ],
      "execution_count": 27,
      "outputs": [
        {
          "output_type": "display_data",
          "data": {
            "image/png": "[encoded data removed]",
            "text/plain": [
              "<Figure size 432x288 with 1 Axes>"
            ]
          },
          "metadata": {
            "needs_background": "light"
          }
        }
      ]
    },
    {
      "cell_type": "code",
      "metadata": {
        "id": "u4xsb3znvKoB",
        "colab": {
          "base_uri": "https://localhost:8080/"
        },
        "outputId": "cba6a5ad-bc8d-471e-d3f5-e88d16908a3f"
      },
      "source": [
        "x2 = np.expand_dims(img2, axis=0)\n",
        "prediction = np.argmax(model.predict(x2))\n",
        "print('The predicted emotion is : ' + emotion_names[prediction])"
      ],
      "execution_count": 28,
      "outputs": [
        {
          "output_type": "stream",
          "name": "stdout",
          "text": [
            "The predicted emotion is : Neutral\n"
          ]
        }
      ]
    },
    {
      "cell_type": "markdown",
      "metadata": {
        "id": "WZw4QKy3qgSn"
      },
      "source": [
        "##Balancing Case"
      ]
    },
    {
      "cell_type": "code",
      "metadata": {
        "id": "UDx0_shu6-T0",
        "colab": {
          "base_uri": "https://localhost:8080/"
        },
        "outputId": "3e89b871-5f25-4a14-ad11-a7d72663e10d"
      },
      "source": [
        "from keras.preprocessing.image import ImageDataGenerator\n",
        "#same layers used\n",
        "model2 = Sequential()\n",
        "model2.add(Conv2D(filters=8, kernel_size=(5, 5), activation='relu'))\n",
        "model2.add(MaxPooling2D())\n",
        "model2.add(Conv2D(filters=16, kernel_size=(3, 3), activation='relu'))\n",
        "model2.add(MaxPooling2D())\n",
        "model2.add(Flatten())\n",
        "model2.add(Dense(units=100, activation='relu'))\n",
        "model2.add(Dense(units=60, activation='relu'))\n",
        "model2.add(Dense(units=10, activation = 'softmax'))\n",
        "model2.compile(loss=\"sparse_categorical_crossentropy\",optimizer=\"adam\",metrics=[\"accuracy\"])\n",
        "\n",
        "datagen = ImageDataGenerator(\n",
        "      width_shift_range=0.1,\n",
        "      height_shift_range=0.1,\n",
        "      shear_range=0.2,\n",
        "      zoom_range=0.2)\n",
        "\n",
        "report2=model2.fit(datagen.flow(train_imgs,train_labels),epochs=50,validation_data=(validation_imgs,validation_labels))\n",
        "model2.summary()\n"
      ],
      "execution_count": 29,
      "outputs": [
        {
          "output_type": "stream",
          "name": "stdout",
          "text": [
            "Epoch 1/50\n",
            "898/898 [==============================] - 20s 22ms/step - loss: 2.1628 - accuracy: 0.2776 - val_loss: 1.6918 - val_accuracy: 0.3458\n",
            "Epoch 2/50\n",
            "898/898 [==============================] - 19s 21ms/step - loss: 1.7020 - accuracy: 0.3293 - val_loss: 1.6159 - val_accuracy: 0.3837\n",
            "Epoch 3/50\n",
            "898/898 [==============================] - 19s 21ms/step - loss: 1.6542 - accuracy: 0.3508 - val_loss: 1.5709 - val_accuracy: 0.4004\n",
            "Epoch 4/50\n",
            "898/898 [==============================] - 19s 21ms/step - loss: 1.6270 - accuracy: 0.3633 - val_loss: 1.5594 - val_accuracy: 0.4062\n",
            "Epoch 5/50\n",
            "898/898 [==============================] - 19s 22ms/step - loss: 1.6080 - accuracy: 0.3701 - val_loss: 1.5576 - val_accuracy: 0.4040\n",
            "Epoch 6/50\n",
            "898/898 [==============================] - 19s 21ms/step - loss: 1.5834 - accuracy: 0.3799 - val_loss: 1.5176 - val_accuracy: 0.4143\n",
            "Epoch 7/50\n",
            "898/898 [==============================] - 19s 21ms/step - loss: 1.5652 - accuracy: 0.3891 - val_loss: 1.4907 - val_accuracy: 0.4333\n",
            "Epoch 8/50\n",
            "898/898 [==============================] - 19s 22ms/step - loss: 1.5525 - accuracy: 0.3945 - val_loss: 1.4746 - val_accuracy: 0.4461\n",
            "Epoch 9/50\n",
            "898/898 [==============================] - 19s 21ms/step - loss: 1.5382 - accuracy: 0.3978 - val_loss: 1.4581 - val_accuracy: 0.4450\n",
            "Epoch 10/50\n",
            "898/898 [==============================] - 19s 22ms/step - loss: 1.5332 - accuracy: 0.4045 - val_loss: 1.5156 - val_accuracy: 0.4191\n",
            "Epoch 11/50\n",
            "898/898 [==============================] - 19s 21ms/step - loss: 1.5115 - accuracy: 0.4130 - val_loss: 1.4798 - val_accuracy: 0.4280\n",
            "Epoch 12/50\n",
            "898/898 [==============================] - 19s 22ms/step - loss: 1.5058 - accuracy: 0.4154 - val_loss: 1.4704 - val_accuracy: 0.4394\n",
            "Epoch 13/50\n",
            "898/898 [==============================] - 19s 21ms/step - loss: 1.4964 - accuracy: 0.4234 - val_loss: 1.4467 - val_accuracy: 0.4553\n",
            "Epoch 14/50\n",
            "898/898 [==============================] - 19s 22ms/step - loss: 1.4817 - accuracy: 0.4283 - val_loss: 1.4097 - val_accuracy: 0.4595\n",
            "Epoch 15/50\n",
            "898/898 [==============================] - 19s 21ms/step - loss: 1.4795 - accuracy: 0.4250 - val_loss: 1.4182 - val_accuracy: 0.4547\n",
            "Epoch 16/50\n",
            "898/898 [==============================] - 19s 21ms/step - loss: 1.4646 - accuracy: 0.4350 - val_loss: 1.4149 - val_accuracy: 0.4620\n",
            "Epoch 17/50\n",
            "898/898 [==============================] - 19s 22ms/step - loss: 1.4602 - accuracy: 0.4346 - val_loss: 1.4282 - val_accuracy: 0.4567\n",
            "Epoch 18/50\n",
            "898/898 [==============================] - 19s 21ms/step - loss: 1.4633 - accuracy: 0.4334 - val_loss: 1.3755 - val_accuracy: 0.4687\n",
            "Epoch 19/50\n",
            "898/898 [==============================] - 19s 21ms/step - loss: 1.4520 - accuracy: 0.4435 - val_loss: 1.3896 - val_accuracy: 0.4703\n",
            "Epoch 20/50\n",
            "898/898 [==============================] - 19s 21ms/step - loss: 1.4484 - accuracy: 0.4381 - val_loss: 1.3950 - val_accuracy: 0.4659\n",
            "Epoch 21/50\n",
            "898/898 [==============================] - 19s 21ms/step - loss: 1.4453 - accuracy: 0.4439 - val_loss: 1.4124 - val_accuracy: 0.4586\n",
            "Epoch 22/50\n",
            "898/898 [==============================] - 19s 21ms/step - loss: 1.4305 - accuracy: 0.4491 - val_loss: 1.3812 - val_accuracy: 0.4673\n",
            "Epoch 23/50\n",
            "898/898 [==============================] - 19s 21ms/step - loss: 1.4285 - accuracy: 0.4493 - val_loss: 1.4048 - val_accuracy: 0.4583\n",
            "Epoch 24/50\n",
            "898/898 [==============================] - 19s 21ms/step - loss: 1.4243 - accuracy: 0.4546 - val_loss: 1.3890 - val_accuracy: 0.4712\n",
            "Epoch 25/50\n",
            "898/898 [==============================] - 19s 21ms/step - loss: 1.4212 - accuracy: 0.4526 - val_loss: 1.3986 - val_accuracy: 0.4614\n",
            "Epoch 26/50\n",
            "898/898 [==============================] - 19s 21ms/step - loss: 1.4112 - accuracy: 0.4557 - val_loss: 1.4092 - val_accuracy: 0.4609\n",
            "Epoch 27/50\n",
            "898/898 [==============================] - 19s 21ms/step - loss: 1.4161 - accuracy: 0.4555 - val_loss: 1.3960 - val_accuracy: 0.4670\n",
            "Epoch 28/50\n",
            "898/898 [==============================] - 19s 21ms/step - loss: 1.4066 - accuracy: 0.4579 - val_loss: 1.3999 - val_accuracy: 0.4661\n",
            "Epoch 29/50\n",
            "898/898 [==============================] - 19s 21ms/step - loss: 1.4033 - accuracy: 0.4588 - val_loss: 1.3526 - val_accuracy: 0.4834\n",
            "Epoch 30/50\n",
            "898/898 [==============================] - 19s 21ms/step - loss: 1.3993 - accuracy: 0.4614 - val_loss: 1.3445 - val_accuracy: 0.4909\n",
            "Epoch 31/50\n",
            "898/898 [==============================] - 19s 21ms/step - loss: 1.3994 - accuracy: 0.4639 - val_loss: 1.4200 - val_accuracy: 0.4642\n",
            "Epoch 32/50\n",
            "898/898 [==============================] - 19s 21ms/step - loss: 1.4013 - accuracy: 0.4613 - val_loss: 1.3713 - val_accuracy: 0.4745\n",
            "Epoch 33/50\n",
            "898/898 [==============================] - 19s 21ms/step - loss: 1.3937 - accuracy: 0.4685 - val_loss: 1.4129 - val_accuracy: 0.4728\n",
            "Epoch 34/50\n",
            "898/898 [==============================] - 19s 22ms/step - loss: 1.3882 - accuracy: 0.4641 - val_loss: 1.3960 - val_accuracy: 0.4742\n",
            "Epoch 35/50\n",
            "898/898 [==============================] - 19s 22ms/step - loss: 1.3875 - accuracy: 0.4660 - val_loss: 1.3818 - val_accuracy: 0.4784\n",
            "Epoch 36/50\n",
            "898/898 [==============================] - 19s 21ms/step - loss: 1.3816 - accuracy: 0.4707 - val_loss: 1.3533 - val_accuracy: 0.4896\n",
            "Epoch 37/50\n",
            "898/898 [==============================] - 19s 21ms/step - loss: 1.3788 - accuracy: 0.4712 - val_loss: 1.3671 - val_accuracy: 0.4790\n",
            "Epoch 38/50\n",
            "898/898 [==============================] - 19s 21ms/step - loss: 1.3804 - accuracy: 0.4683 - val_loss: 1.3821 - val_accuracy: 0.4714\n",
            "Epoch 39/50\n",
            "898/898 [==============================] - 19s 21ms/step - loss: 1.3790 - accuracy: 0.4726 - val_loss: 1.3545 - val_accuracy: 0.4921\n",
            "Epoch 40/50\n",
            "898/898 [==============================] - 19s 21ms/step - loss: 1.3729 - accuracy: 0.4702 - val_loss: 1.3599 - val_accuracy: 0.4801\n",
            "Epoch 41/50\n",
            "898/898 [==============================] - 19s 21ms/step - loss: 1.3735 - accuracy: 0.4733 - val_loss: 1.4170 - val_accuracy: 0.4673\n",
            "Epoch 42/50\n",
            "898/898 [==============================] - 19s 21ms/step - loss: 1.3674 - accuracy: 0.4770 - val_loss: 1.3351 - val_accuracy: 0.4896\n",
            "Epoch 43/50\n",
            "898/898 [==============================] - 19s 21ms/step - loss: 1.3693 - accuracy: 0.4781 - val_loss: 1.3775 - val_accuracy: 0.4870\n",
            "Epoch 44/50\n",
            "898/898 [==============================] - 19s 21ms/step - loss: 1.3636 - accuracy: 0.4819 - val_loss: 1.3365 - val_accuracy: 0.5015\n",
            "Epoch 45/50\n",
            "898/898 [==============================] - 19s 21ms/step - loss: 1.3629 - accuracy: 0.4788 - val_loss: 1.3466 - val_accuracy: 0.4926\n",
            "Epoch 46/50\n",
            "898/898 [==============================] - 19s 21ms/step - loss: 1.3626 - accuracy: 0.4780 - val_loss: 1.3283 - val_accuracy: 0.4940\n",
            "Epoch 47/50\n",
            "898/898 [==============================] - 19s 22ms/step - loss: 1.3554 - accuracy: 0.4793 - val_loss: 1.3311 - val_accuracy: 0.4962\n",
            "Epoch 48/50\n",
            "898/898 [==============================] - 19s 21ms/step - loss: 1.3555 - accuracy: 0.4821 - val_loss: 1.3157 - val_accuracy: 0.5068\n",
            "Epoch 49/50\n",
            "898/898 [==============================] - 19s 22ms/step - loss: 1.3511 - accuracy: 0.4847 - val_loss: 1.3366 - val_accuracy: 0.5054\n",
            "Epoch 50/50\n",
            "898/898 [==============================] - 19s 21ms/step - loss: 1.3505 - accuracy: 0.4840 - val_loss: 1.3268 - val_accuracy: 0.5018\n",
            "Model: \"sequential_1\"\n",
            "_________________________________________________________________\n",
            "Layer (type)                 Output Shape              Param #   \n",
            "=================================================================\n",
            "conv2d_2 (Conv2D)            (None, None, None, 8)     208       \n",
            "_________________________________________________________________\n",
            "max_pooling2d_2 (MaxPooling2 (None, None, None, 8)     0         \n",
            "_________________________________________________________________\n",
            "conv2d_3 (Conv2D)            (None, None, None, 16)    1168      \n",
            "_________________________________________________________________\n",
            "max_pooling2d_3 (MaxPooling2 (None, None, None, 16)    0         \n",
            "_________________________________________________________________\n",
            "flatten_1 (Flatten)          (None, None)              0         \n",
            "_________________________________________________________________\n",
            "dense_3 (Dense)              (None, 100)               160100    \n",
            "_________________________________________________________________\n",
            "dense_4 (Dense)              (None, 60)                6060      \n",
            "_________________________________________________________________\n",
            "dense_5 (Dense)              (None, 10)                610       \n",
            "=================================================================\n",
            "Total params: 168,146\n",
            "Trainable params: 168,146\n",
            "Non-trainable params: 0\n",
            "_________________________________________________________________\n"
          ]
        }
      ]
    },
    {
      "cell_type": "markdown",
      "metadata": {
        "id": "RwQbPP_oqkj7"
      },
      "source": [
        "##Balacing Evaluation"
      ]
    },
    {
      "cell_type": "code",
      "metadata": {
        "id": "4AjNHE4o7Q3Q",
        "colab": {
          "base_uri": "https://localhost:8080/"
        },
        "outputId": "1d1e5b5d-2047-4d29-82ca-17821865ff1e"
      },
      "source": [
        "accuracy_model(model2)"
      ],
      "execution_count": 30,
      "outputs": [
        {
          "output_type": "stream",
          "name": "stdout",
          "text": [
            "Accuracy on Valid set 0.5018110894399554\n",
            "Accuracy on Test set 0.5126776260796879\n"
          ]
        }
      ]
    },
    {
      "cell_type": "code",
      "metadata": {
        "id": "EB5DSdHqITgf",
        "colab": {
          "base_uri": "https://localhost:8080/",
          "height": 621
        },
        "outputId": "beb3e28f-d333-432a-f22b-e30179ec3572"
      },
      "source": [
        "plot_model(report2)"
      ],
      "execution_count": 31,
      "outputs": [
        {
          "output_type": "display_data",
          "data": {
            "image/png": "[encoded data removed]",
            "text/plain": [
              "<Figure size 1080x720 with 2 Axes>"
            ]
          },
          "metadata": {
            "needs_background": "light"
          }
        }
      ]
    },
    {
      "cell_type": "code",
      "metadata": {
        "id": "VjP9dwdhzstm",
        "colab": {
          "base_uri": "https://localhost:8080/",
          "height": 265
        },
        "outputId": "47f99204-ce47-4aae-d0bc-bafba35d3893"
      },
      "source": [
        "confusion_plot(model2)"
      ],
      "execution_count": 32,
      "outputs": [
        {
          "output_type": "display_data",
          "data": {
            "image/png": "[encoded data removed]",
            "text/plain": [
              "<Figure size 432x288 with 2 Axes>"
            ]
          },
          "metadata": {
            "needs_background": "light"
          }
        }
      ]
    },
    {
      "cell_type": "markdown",
      "metadata": {
        "id": "IUwRKgy9_2v0"
      },
      "source": [
        "## Conclusion"
      ]
    },
    {
      "cell_type": "markdown",
      "metadata": {
        "id": "tyFKzur0igKE"
      },
      "source": [
        "When I applied the augmentation model the validation accuracy changed from approx 43% to approx 51%.\n",
        "It is clealry visible that the augmentation model is good because it removes the overfitting issue. Moreover, it handles noise data very well.\n",
        "Additionally, Non augmentation does not have enough data but with augmentation we produces more unseen data and fitted into the neural network. Moreover, with the help of more layers and fine tuning we will get more better results."
      ]
    }
  ]
}