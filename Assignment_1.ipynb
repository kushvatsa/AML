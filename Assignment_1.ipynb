{
  "nbformat": 4,
  "nbformat_minor": 0,
  "metadata": {
    "colab": {
      "name": "Assignment_1.ipynb",
      "provenance": [],
      "collapsed_sections": [],
      "include_colab_link": true
    },
    "kernelspec": {
      "name": "python3",
      "display_name": "Python 3"
    },
    "language_info": {
      "name": "python"
    },
    "accelerator": "GPU"
  },
  "cells": [
    {
      "cell_type": "markdown",
      "metadata": {
        "id": "view-in-github",
        "colab_type": "text"
      },
      "source": [
        "<a href=\"https://colab.research.google.com/github/kushvatsa/AML/blob/main/Assignment_1.ipynb\" target=\"_parent\"><img src=\"https://colab.research.google.com/assets/colab-badge.svg\" alt=\"Open In Colab\"/></a>"
      ]
    },
    {
      "cell_type": "markdown",
      "metadata": {
        "id": "zEDn-XVuJ-Hq"
      },
      "source": [
        "# Assignment 1\n",
        "\n",
        "## General information\n",
        "\n",
        "Upload the solution to canvas. You will get a grade after you've successfully presented it.\n",
        "\n",
        "*Deadlines and grades*:\n",
        "* 2021.09.28 - 2021.10.12 ==> 4\n",
        "* 2021.10.13 - 2021.10.19 ==> 3\n",
        "* 2021.10.20 - 2021.10.26 ==> 2\n",
        "* 2021.10.27 or later ==> 1\n",
        "\n",
        "Note: You can get +1 grade, after you prepare a paper+code presentation, or do an extra task within the 2nd assignment.\n",
        "\n",
        "## Description\n",
        "\n",
        "In this assignment you have to build and train a multimodal deep neural network for emotion detection using tf.keras/pytorch. You have to work with the FER2013 dataset, which contains more than 28000 images. The images are automatically gathered, so there can be mislabeled or bad quality samples as well. Do your best!\n",
        "\n",
        "Every image has a single label from the following list: Angry, Disgust, Fear, Happy, Sad, Surprise, Neutral.\n",
        "\n",
        "## What must be done\n",
        "\n",
        "You have to train 2 separate models using the original imbalanced and balanced data. Balacing can be done by resampling (undersampling the majority and oversampling the minority classes) or by loss function weighting (bigger error on minority samples).\n",
        "\n",
        "Therefore the analysis should be done twice, then compare the classification performances and confusion matrices.\n",
        "\n",
        "## Example pipeline\n",
        "\n",
        "There is no constraint, you can preprocess the data as you wish, use any DNN (or Transformer architecture) for training, etc. The expected solution should contain data loading and visualization, preprocessing, model definition, training and evaluation.\n",
        "\n",
        "Here, there is an example pipeline with such details to help you out:\n",
        "* Download the FER2013 dataset, it is available in csv format at the following link: nipg1.inf.elte.hu:8765/fer2013.csv (if the file is unreachable, write an email)\n",
        "* You have to solve a classification task.\n",
        "* Preprocess the data and visualize samples\n",
        "  * gather the images, separate the train-valid-test subsets (Training, PublicTest, PrivateTest)\n",
        "  * resize the images: original size is 48x48, networks usually expect e.g. 224x224x3 images. Do the resizing part during data augmentation, otherwise you run out of Colab resources.\n",
        "  * all images are grayscale with a single value. duplicate the channel dimension if necessary to transform (H,W) to (H,W,3)\n",
        "  * plot label histogram\n",
        "* Define train-valid-test dataloaders\n",
        "  * augment and normalize the input images. (standardize the inputs using the dataset mean/std values, or a preprocess function expected by a pretrained network) - you can use a resize transform to get 240x240x3 images then apply a 224x224x3 randomcrop. \n",
        "* Define and train a model\n",
        "  * define a model (e.g. VGG11 or ResNet18, etc)\n",
        "  * define the loss function, optimizer\n",
        "  * use early stopping and a learning rate scheduler\n",
        "  * train the model using the training and validation subsets\n",
        "  * plot the training/validation curve\n",
        "* Evaluation\n",
        "  * evaluate the model on the test set\n",
        "  * print/plot classification results and confusion matrix\n",
        "  * visualize some misclassified samples\n",
        "\n",
        "At this point, you have the results for the imbalanced case. \n",
        "\n",
        "* Balancing\n",
        "  * Modify it slighthly in the dataloader (resampling) or at loss definition (weighting).\n",
        "* Compare the classification metrics and confusion matrices\n",
        "\n",
        "# Use GPU\n",
        "Runtime -> Change runtime type\n",
        "\n",
        "At Hardware accelerator select GPU then save it.\n",
        "\n",
        "\n",
        "# Useful shortcuts\n",
        "* Run selected cell: *Ctrl + Enter*\n",
        "* Insert cell below: *Ctrl + M B*\n",
        "* Insert cell above: *Ctrl + M A*\n",
        "* Convert to text: *Ctrl + M M*\n",
        "* Split at cursor: *Ctrl + M -*\n",
        "* Autocomplete: *Ctrl + Space* or *Tab*\n",
        "* Move selected cells up: *Ctrl + M J*\n",
        "* Move selected cells down: *Ctrl + M K*\n",
        "* Delete selected cells: *Ctrl + M D*"
      ]
    },
    {
      "cell_type": "code",
      "metadata": {
        "colab": {
          "base_uri": "https://localhost:8080/"
        },
        "id": "lpOgVdHoJ2w7",
        "outputId": "4b23ddba-72c2-4b7b-ed3f-844cfc1cf8a9"
      },
      "source": [
        "!wget nipg1.inf.elte.hu:8765/fer2013.csv"
      ],
      "execution_count": 2,
      "outputs": [
        {
          "output_type": "stream",
          "name": "stdout",
          "text": [
            "--2021-10-12 16:01:27--  http://nipg1.inf.elte.hu:8765/fer2013.csv\n",
            "Resolving nipg1.inf.elte.hu (nipg1.inf.elte.hu)... 157.181.160.161\n",
            "Connecting to nipg1.inf.elte.hu (nipg1.inf.elte.hu)|157.181.160.161|:8765... connected.\n",
            "HTTP request sent, awaiting response... 200 OK\n",
            "Length: 301072766 (287M) [text/csv]\n",
            "Saving to: ‘fer2013.csv’\n",
            "\n",
            "fer2013.csv         100%[===================>] 287.12M  6.74MB/s    in 34s     \n",
            "\n",
            "2021-10-12 16:02:01 (8.51 MB/s) - ‘fer2013.csv’ saved [301072766/301072766]\n",
            "\n"
          ]
        }
      ]
    },
    {
      "cell_type": "markdown",
      "metadata": {
        "id": "U1cSJ2Nc5-gG"
      },
      "source": [
        "**Name: Vatsa Kush**  \n",
        "**Neptun ID: I3B326** "
      ]
    },
    {
      "cell_type": "code",
      "metadata": {
        "id": "fyxGWytK14zl"
      },
      "source": [
        "import pandas as pd\n",
        "import numpy as np\n",
        "import matplotlib.pyplot as plt\n",
        "import seaborn as sns\n",
        "%matplotlib inline\n",
        "\n",
        "data = pd.read_csv('fer2013.csv')"
      ],
      "execution_count": 3,
      "outputs": []
    },
    {
      "cell_type": "markdown",
      "metadata": {
        "id": "mXnpDbRWoyaL"
      },
      "source": [
        "## Preprocessing"
      ]
    },
    {
      "cell_type": "code",
      "metadata": {
        "colab": {
          "base_uri": "https://localhost:8080/"
        },
        "id": "NSYQevz-2ETh",
        "outputId": "a42a340e-debf-4638-a5b3-93e138645d87"
      },
      "source": [
        "data.shape"
      ],
      "execution_count": 4,
      "outputs": [
        {
          "output_type": "execute_result",
          "data": {
            "text/plain": [
              "(35887, 3)"
            ]
          },
          "metadata": {},
          "execution_count": 4
        }
      ]
    },
    {
      "cell_type": "code",
      "metadata": {
        "colab": {
          "base_uri": "https://localhost:8080/"
        },
        "id": "v9JzOzya7lVA",
        "outputId": "80873d85-0424-4032-a395-f30cda33f4c9"
      },
      "source": [
        "data.head"
      ],
      "execution_count": 5,
      "outputs": [
        {
          "output_type": "execute_result",
          "data": {
            "text/plain": [
              "<bound method NDFrame.head of        emotion                                             pixels        Usage\n",
              "0            0  70 80 82 72 58 58 60 63 54 58 60 48 89 115 121...     Training\n",
              "1            0  151 150 147 155 148 133 111 140 170 174 182 15...     Training\n",
              "2            2  231 212 156 164 174 138 161 173 182 200 106 38...     Training\n",
              "3            4  24 32 36 30 32 23 19 20 30 41 21 22 32 34 21 1...     Training\n",
              "4            6  4 0 0 0 0 0 0 0 0 0 0 0 3 15 23 28 48 50 58 84...     Training\n",
              "...        ...                                                ...          ...\n",
              "35882        6  50 36 17 22 23 29 33 39 34 37 37 37 39 43 48 5...  PrivateTest\n",
              "35883        3  178 174 172 173 181 188 191 194 196 199 200 20...  PrivateTest\n",
              "35884        0  17 17 16 23 28 22 19 17 25 26 20 24 31 19 27 9...  PrivateTest\n",
              "35885        3  30 28 28 29 31 30 42 68 79 81 77 67 67 71 63 6...  PrivateTest\n",
              "35886        2  19 13 14 12 13 16 21 33 50 57 71 84 97 108 122...  PrivateTest\n",
              "\n",
              "[35887 rows x 3 columns]>"
            ]
          },
          "metadata": {},
          "execution_count": 5
        }
      ]
    },
    {
      "cell_type": "markdown",
      "metadata": {
        "id": "9NikPnkKNK9i"
      },
      "source": [
        "**Splitting Dataset**"
      ]
    },
    {
      "cell_type": "code",
      "metadata": {
        "id": "ZY3uTF-LM6id"
      },
      "source": [
        "train_data = data[data[\"Usage\"]==\"Training\"]\n",
        "validation_data = data[data[\"Usage\"]==\"PublicTest\"]\n",
        "test_data = data[data[\"Usage\"]==\"PrivateTest\"]"
      ],
      "execution_count": 6,
      "outputs": []
    },
    {
      "cell_type": "code",
      "metadata": {
        "colab": {
          "base_uri": "https://localhost:8080/"
        },
        "id": "O-sNq4CxLegT",
        "outputId": "99235d76-c464-4b20-e284-d312e5834be5"
      },
      "source": [
        "train_data.shape,test_data.shape,validation_data.shape"
      ],
      "execution_count": 7,
      "outputs": [
        {
          "output_type": "execute_result",
          "data": {
            "text/plain": [
              "((28709, 3), (3589, 3), (3589, 3))"
            ]
          },
          "metadata": {},
          "execution_count": 7
        }
      ]
    },
    {
      "cell_type": "code",
      "metadata": {
        "colab": {
          "base_uri": "https://localhost:8080/",
          "height": 419
        },
        "id": "YrPwLsxhPI8q",
        "outputId": "589df572-7dc0-4005-84a6-c7858f74e775"
      },
      "source": [
        "test_data"
      ],
      "execution_count": 8,
      "outputs": [
        {
          "output_type": "execute_result",
          "data": {
            "text/html": [
              "<div>\n",
              "<style scoped>\n",
              "    .dataframe tbody tr th:only-of-type {\n",
              "        vertical-align: middle;\n",
              "    }\n",
              "\n",
              "    .dataframe tbody tr th {\n",
              "        vertical-align: top;\n",
              "    }\n",
              "\n",
              "    .dataframe thead th {\n",
              "        text-align: right;\n",
              "    }\n",
              "</style>\n",
              "<table border=\"1\" class=\"dataframe\">\n",
              "  <thead>\n",
              "    <tr style=\"text-align: right;\">\n",
              "      <th></th>\n",
              "      <th>emotion</th>\n",
              "      <th>pixels</th>\n",
              "      <th>Usage</th>\n",
              "    </tr>\n",
              "  </thead>\n",
              "  <tbody>\n",
              "    <tr>\n",
              "      <th>32298</th>\n",
              "      <td>0</td>\n",
              "      <td>170 118 101 88 88 75 78 82 66 74 68 59 63 64 6...</td>\n",
              "      <td>PrivateTest</td>\n",
              "    </tr>\n",
              "    <tr>\n",
              "      <th>32299</th>\n",
              "      <td>5</td>\n",
              "      <td>7 5 8 6 7 3 2 6 5 4 4 5 7 5 5 5 6 7 7 7 10 10 ...</td>\n",
              "      <td>PrivateTest</td>\n",
              "    </tr>\n",
              "    <tr>\n",
              "      <th>32300</th>\n",
              "      <td>6</td>\n",
              "      <td>232 240 241 239 237 235 246 117 24 24 22 13 12...</td>\n",
              "      <td>PrivateTest</td>\n",
              "    </tr>\n",
              "    <tr>\n",
              "      <th>32301</th>\n",
              "      <td>4</td>\n",
              "      <td>200 197 149 139 156 89 111 58 62 95 113 117 11...</td>\n",
              "      <td>PrivateTest</td>\n",
              "    </tr>\n",
              "    <tr>\n",
              "      <th>32302</th>\n",
              "      <td>2</td>\n",
              "      <td>40 28 33 56 45 33 31 78 152 194 200 186 196 20...</td>\n",
              "      <td>PrivateTest</td>\n",
              "    </tr>\n",
              "    <tr>\n",
              "      <th>...</th>\n",
              "      <td>...</td>\n",
              "      <td>...</td>\n",
              "      <td>...</td>\n",
              "    </tr>\n",
              "    <tr>\n",
              "      <th>35882</th>\n",
              "      <td>6</td>\n",
              "      <td>50 36 17 22 23 29 33 39 34 37 37 37 39 43 48 5...</td>\n",
              "      <td>PrivateTest</td>\n",
              "    </tr>\n",
              "    <tr>\n",
              "      <th>35883</th>\n",
              "      <td>3</td>\n",
              "      <td>178 174 172 173 181 188 191 194 196 199 200 20...</td>\n",
              "      <td>PrivateTest</td>\n",
              "    </tr>\n",
              "    <tr>\n",
              "      <th>35884</th>\n",
              "      <td>0</td>\n",
              "      <td>17 17 16 23 28 22 19 17 25 26 20 24 31 19 27 9...</td>\n",
              "      <td>PrivateTest</td>\n",
              "    </tr>\n",
              "    <tr>\n",
              "      <th>35885</th>\n",
              "      <td>3</td>\n",
              "      <td>30 28 28 29 31 30 42 68 79 81 77 67 67 71 63 6...</td>\n",
              "      <td>PrivateTest</td>\n",
              "    </tr>\n",
              "    <tr>\n",
              "      <th>35886</th>\n",
              "      <td>2</td>\n",
              "      <td>19 13 14 12 13 16 21 33 50 57 71 84 97 108 122...</td>\n",
              "      <td>PrivateTest</td>\n",
              "    </tr>\n",
              "  </tbody>\n",
              "</table>\n",
              "<p>3589 rows × 3 columns</p>\n",
              "</div>"
            ],
            "text/plain": [
              "       emotion                                             pixels        Usage\n",
              "32298        0  170 118 101 88 88 75 78 82 66 74 68 59 63 64 6...  PrivateTest\n",
              "32299        5  7 5 8 6 7 3 2 6 5 4 4 5 7 5 5 5 6 7 7 7 10 10 ...  PrivateTest\n",
              "32300        6  232 240 241 239 237 235 246 117 24 24 22 13 12...  PrivateTest\n",
              "32301        4  200 197 149 139 156 89 111 58 62 95 113 117 11...  PrivateTest\n",
              "32302        2  40 28 33 56 45 33 31 78 152 194 200 186 196 20...  PrivateTest\n",
              "...        ...                                                ...          ...\n",
              "35882        6  50 36 17 22 23 29 33 39 34 37 37 37 39 43 48 5...  PrivateTest\n",
              "35883        3  178 174 172 173 181 188 191 194 196 199 200 20...  PrivateTest\n",
              "35884        0  17 17 16 23 28 22 19 17 25 26 20 24 31 19 27 9...  PrivateTest\n",
              "35885        3  30 28 28 29 31 30 42 68 79 81 77 67 67 71 63 6...  PrivateTest\n",
              "35886        2  19 13 14 12 13 16 21 33 50 57 71 84 97 108 122...  PrivateTest\n",
              "\n",
              "[3589 rows x 3 columns]"
            ]
          },
          "metadata": {},
          "execution_count": 8
        }
      ]
    },
    {
      "cell_type": "code",
      "metadata": {
        "id": "FSWZ1yMyNijq"
      },
      "source": [
        "def toPixels(pixels):\n",
        "\n",
        "    val = np.array(pixels.split(),\"float64\")\n",
        "    return val"
      ],
      "execution_count": 9,
      "outputs": []
    },
    {
      "cell_type": "code",
      "metadata": {
        "colab": {
          "base_uri": "https://localhost:8080/"
        },
        "id": "3-L_PGyeN2Xz",
        "outputId": "2c940b0e-805f-49b3-de7c-2d229459deae"
      },
      "source": [
        "train_data[\"pixels\"] = train_data[\"pixels\"].apply(toPixels)\n",
        "validation_data[\"pixels\"] = validation_data[\"pixels\"].apply(toPixels)\n",
        "test_data[\"pixels\"] = test_data[\"pixels\"].apply(toPixels)"
      ],
      "execution_count": 10,
      "outputs": [
        {
          "output_type": "stream",
          "name": "stderr",
          "text": [
            "/usr/local/lib/python3.7/dist-packages/ipykernel_launcher.py:1: SettingWithCopyWarning: \n",
            "A value is trying to be set on a copy of a slice from a DataFrame.\n",
            "Try using .loc[row_indexer,col_indexer] = value instead\n",
            "\n",
            "See the caveats in the documentation: https://pandas.pydata.org/pandas-docs/stable/user_guide/indexing.html#returning-a-view-versus-a-copy\n",
            "  \"\"\"Entry point for launching an IPython kernel.\n",
            "/usr/local/lib/python3.7/dist-packages/ipykernel_launcher.py:2: SettingWithCopyWarning: \n",
            "A value is trying to be set on a copy of a slice from a DataFrame.\n",
            "Try using .loc[row_indexer,col_indexer] = value instead\n",
            "\n",
            "See the caveats in the documentation: https://pandas.pydata.org/pandas-docs/stable/user_guide/indexing.html#returning-a-view-versus-a-copy\n",
            "  \n",
            "/usr/local/lib/python3.7/dist-packages/ipykernel_launcher.py:3: SettingWithCopyWarning: \n",
            "A value is trying to be set on a copy of a slice from a DataFrame.\n",
            "Try using .loc[row_indexer,col_indexer] = value instead\n",
            "\n",
            "See the caveats in the documentation: https://pandas.pydata.org/pandas-docs/stable/user_guide/indexing.html#returning-a-view-versus-a-copy\n",
            "  This is separate from the ipykernel package so we can avoid doing imports until\n"
          ]
        }
      ]
    },
    {
      "cell_type": "markdown",
      "metadata": {
        "id": "x_X2YdV1OZ8Y"
      },
      "source": [
        "**Images and Labels for 3 datasets**"
      ]
    },
    {
      "cell_type": "code",
      "metadata": {
        "id": "UK8iG0WtOAlM"
      },
      "source": [
        "def reshapeImg(df):\n",
        "\n",
        "    imgs = np.reshape(df[\"pixels\"].to_list(),(df.shape[0],48,48,1))\n",
        "\n",
        "    return imgs"
      ],
      "execution_count": 12,
      "outputs": []
    },
    {
      "cell_type": "code",
      "metadata": {
        "id": "BgKDLmGAOeca"
      },
      "source": [
        "train_imgs = reshapeImg(train_data)\n",
        "validation_imgs = reshapeImg(validation_data)\n",
        "test_imgs = reshapeImg(test_data)\n",
        "\n",
        "train_labels = train_data[\"emotion\"]\n",
        "validation_labels = validation_data[\"emotion\"]\n",
        "test_labels = test_data[\"emotion\"]"
      ],
      "execution_count": 13,
      "outputs": []
    },
    {
      "cell_type": "code",
      "metadata": {
        "colab": {
          "base_uri": "https://localhost:8080/"
        },
        "id": "qbSKGz_JRi57",
        "outputId": "9f3ca646-c7c0-4717-eb83-83b57c448878"
      },
      "source": [
        "train_imgs.shape"
      ],
      "execution_count": 14,
      "outputs": [
        {
          "output_type": "execute_result",
          "data": {
            "text/plain": [
              "(28709, 48, 48, 1)"
            ]
          },
          "metadata": {},
          "execution_count": 14
        }
      ]
    },
    {
      "cell_type": "code",
      "metadata": {
        "colab": {
          "base_uri": "https://localhost:8080/"
        },
        "id": "TPIKqrPnJ-Q7",
        "outputId": "8dceb400-094a-4a79-c327-dc6bcbf5b4e1"
      },
      "source": [
        "emotion_names = {0 : 'Angry', 1 : 'Disgust', 2 : 'Fear', 3 : 'Happiness', 4 : 'Sad', 5 : 'Surprise', 6 : 'Neutral'}\n",
        "emotion_names"
      ],
      "execution_count": 26,
      "outputs": [
        {
          "output_type": "execute_result",
          "data": {
            "text/plain": [
              "{0: 'Angry',\n",
              " 1: 'Disgust',\n",
              " 2: 'Fear',\n",
              " 3: 'Happiness',\n",
              " 4: 'Sad',\n",
              " 5: 'Surprise',\n",
              " 6: 'Neutral'}"
            ]
          },
          "metadata": {},
          "execution_count": 26
        }
      ]
    },
    {
      "cell_type": "code",
      "metadata": {
        "id": "FQKGrXW5QDYl"
      },
      "source": [
        "def plotImages(x,y,range):\n",
        "  for ix in range(range):\n",
        "      plt.figure(ix)\n",
        "      plt.imshow(x[ix].reshape((48, 48)), interpolation='none', cmap='gray')\n",
        "      plt.axis(\"off\")\n",
        "      plt.title(emotion_names[y[ix]])\n",
        "      plt.show()"
      ],
      "execution_count": 51,
      "outputs": []
    },
    {
      "cell_type": "code",
      "metadata": {
        "colab": {
          "base_uri": "https://localhost:8080/",
          "height": 1000
        },
        "id": "XTvo0n6uQHQ-",
        "outputId": "5d39044a-94cc-4e96-b4ea-53025e02017d"
      },
      "source": [
        "plotImages(train_imgs,train_labels,5)"
      ],
      "execution_count": 52,
      "outputs": [
        {
          "output_type": "display_data",
          "data": {
            "image/png": "[encoded data removed]",
            "text/plain": [
              "<Figure size 432x288 with 1 Axes>"
            ]
          },
          "metadata": {
            "needs_background": "light"
          }
        },
        {
          "output_type": "display_data",
          "data": {
            "image/png": "[encoded data removed]",
            "text/plain": [
              "<Figure size 432x288 with 1 Axes>"
            ]
          },
          "metadata": {
            "needs_background": "light"
          }
        },
        {
          "output_type": "display_data",
          "data": {
            "image/png": "[encoded data removed]",
            "text/plain": [
              "<Figure size 432x288 with 1 Axes>"
            ]
          },
          "metadata": {
            "needs_background": "light"
          }
        },
        {
          "output_type": "display_data",
          "data": {
            "image/png": "[encoded data removed]",
            "text/plain": [
              "<Figure size 432x288 with 1 Axes>"
            ]
          },
          "metadata": {
            "needs_background": "light"
          }
        }
      ]
    },
    {
      "cell_type": "code",
      "metadata": {
        "colab": {
          "base_uri": "https://localhost:8080/"
        },
        "id": "GuSXpDbYvdQn",
        "outputId": "4e9579e6-53fc-44b9-d3ae-19eb9c03d1a8"
      },
      "source": [
        "train_imgs.shape"
      ],
      "execution_count": 17,
      "outputs": [
        {
          "output_type": "execute_result",
          "data": {
            "text/plain": [
              "(28709, 48, 48, 1)"
            ]
          },
          "metadata": {},
          "execution_count": 17
        }
      ]
    },
    {
      "cell_type": "markdown",
      "metadata": {
        "id": "IxUAicfAqAWf"
      },
      "source": [
        "## Training the models"
      ]
    },
    {
      "cell_type": "code",
      "metadata": {
        "id": "_3eTbgy3oIJA"
      },
      "source": [
        "%tensorflow_version 2.x\n",
        "import tensorflow as tf\n",
        "from tensorflow import keras\n",
        "from tensorflow.keras.models import *\n",
        "from tensorflow.keras.layers import *\n",
        "from tensorflow.keras.callbacks import ModelCheckpoint, LearningRateScheduler, EarlyStopping, ModelCheckpoint\n",
        "from keras.models import Sequential\n",
        "from keras.layers import Dense,Conv2D,MaxPooling2D,Dense,Flatten,Dropout"
      ],
      "execution_count": 46,
      "outputs": []
    },
    {
      "cell_type": "code",
      "metadata": {
        "colab": {
          "base_uri": "https://localhost:8080/"
        },
        "id": "f1mrVlYnojj9",
        "outputId": "00b73a1a-9461-4076-ac1b-ac5c5d3786ba"
      },
      "source": [
        "model = Sequential()\n",
        "model.add(Conv2D(filters=8, kernel_size=(5, 5), activation='relu'))\n",
        "model.add(MaxPooling2D())\n",
        "model.add(Conv2D(filters=16, kernel_size=(3, 3), activation='relu'))\n",
        "model.add(MaxPooling2D())\n",
        "model.add(Flatten())\n",
        "model.add(Dense(units=100, activation='relu'))\n",
        "model.add(Dense(units=60, activation='relu'))\n",
        "model.add(Dense(units=10, activation = 'softmax'))\n",
        "\n",
        "adam = keras.optimizers.Adam(learning_rate=0.0001)\n",
        "model.compile(loss=\"sparse_categorical_crossentropy\",optimizer=adam,metrics=[\"accuracy\"])\n",
        "\n",
        "early_stopping = EarlyStopping(patience=10, restore_best_weights=True)\n",
        "report=model.fit(train_imgs,train_labels,epochs=50,batch_size=64,validation_data=(validation_imgs,validation_labels),callbacks=[early_stopping])\n",
        "model.summary()"
      ],
      "execution_count": 48,
      "outputs": [
        {
          "output_type": "stream",
          "name": "stdout",
          "text": [
            "Epoch 1/50\n",
            "449/449 [==============================] - 4s 8ms/step - loss: 2.2368 - accuracy: 0.2401 - val_loss: 1.8678 - val_accuracy: 0.2708\n",
            "Epoch 2/50\n",
            "449/449 [==============================] - 3s 7ms/step - loss: 1.7496 - accuracy: 0.3220 - val_loss: 1.7231 - val_accuracy: 0.3385\n",
            "Epoch 3/50\n",
            "449/449 [==============================] - 3s 7ms/step - loss: 1.6558 - accuracy: 0.3611 - val_loss: 1.6678 - val_accuracy: 0.3636\n",
            "Epoch 4/50\n",
            "449/449 [==============================] - 3s 7ms/step - loss: 1.5946 - accuracy: 0.3871 - val_loss: 1.6388 - val_accuracy: 0.3770\n",
            "Epoch 5/50\n",
            "449/449 [==============================] - 3s 7ms/step - loss: 1.5512 - accuracy: 0.4077 - val_loss: 1.6053 - val_accuracy: 0.3842\n",
            "Epoch 6/50\n",
            "449/449 [==============================] - 3s 7ms/step - loss: 1.5123 - accuracy: 0.4238 - val_loss: 1.5661 - val_accuracy: 0.3982\n",
            "Epoch 7/50\n",
            "449/449 [==============================] - 3s 7ms/step - loss: 1.4731 - accuracy: 0.4390 - val_loss: 1.5658 - val_accuracy: 0.3990\n",
            "Epoch 8/50\n",
            "449/449 [==============================] - 3s 7ms/step - loss: 1.4395 - accuracy: 0.4533 - val_loss: 1.5350 - val_accuracy: 0.4104\n",
            "Epoch 9/50\n",
            "449/449 [==============================] - 3s 7ms/step - loss: 1.4073 - accuracy: 0.4669 - val_loss: 1.5299 - val_accuracy: 0.4135\n",
            "Epoch 10/50\n",
            "449/449 [==============================] - 3s 7ms/step - loss: 1.3763 - accuracy: 0.4804 - val_loss: 1.5097 - val_accuracy: 0.4260\n",
            "Epoch 11/50\n",
            "449/449 [==============================] - 3s 7ms/step - loss: 1.3450 - accuracy: 0.4947 - val_loss: 1.5128 - val_accuracy: 0.4316\n",
            "Epoch 12/50\n",
            "449/449 [==============================] - 3s 7ms/step - loss: 1.3137 - accuracy: 0.5099 - val_loss: 1.5197 - val_accuracy: 0.4263\n",
            "Epoch 13/50\n",
            "449/449 [==============================] - 3s 7ms/step - loss: 1.2791 - accuracy: 0.5248 - val_loss: 1.5264 - val_accuracy: 0.4347\n",
            "Epoch 14/50\n",
            "449/449 [==============================] - 3s 7ms/step - loss: 1.2506 - accuracy: 0.5353 - val_loss: 1.5044 - val_accuracy: 0.4352\n",
            "Epoch 15/50\n",
            "449/449 [==============================] - 3s 7ms/step - loss: 1.2180 - accuracy: 0.5480 - val_loss: 1.5062 - val_accuracy: 0.4422\n",
            "Epoch 16/50\n",
            "449/449 [==============================] - 3s 7ms/step - loss: 1.1870 - accuracy: 0.5613 - val_loss: 1.5203 - val_accuracy: 0.4464\n",
            "Epoch 17/50\n",
            "449/449 [==============================] - 3s 7ms/step - loss: 1.1549 - accuracy: 0.5764 - val_loss: 1.5186 - val_accuracy: 0.4450\n",
            "Epoch 18/50\n",
            "449/449 [==============================] - 3s 7ms/step - loss: 1.1257 - accuracy: 0.5852 - val_loss: 1.5076 - val_accuracy: 0.4464\n",
            "Epoch 19/50\n",
            "449/449 [==============================] - 3s 7ms/step - loss: 1.0926 - accuracy: 0.6008 - val_loss: 1.5379 - val_accuracy: 0.4494\n",
            "Epoch 20/50\n",
            "449/449 [==============================] - 3s 7ms/step - loss: 1.0595 - accuracy: 0.6164 - val_loss: 1.5494 - val_accuracy: 0.4480\n",
            "Epoch 21/50\n",
            "449/449 [==============================] - 3s 7ms/step - loss: 1.0297 - accuracy: 0.6266 - val_loss: 1.5602 - val_accuracy: 0.4464\n",
            "Epoch 22/50\n",
            "449/449 [==============================] - 3s 7ms/step - loss: 0.9957 - accuracy: 0.6401 - val_loss: 1.5664 - val_accuracy: 0.4575\n",
            "Epoch 23/50\n",
            "449/449 [==============================] - 3s 7ms/step - loss: 0.9678 - accuracy: 0.6513 - val_loss: 1.5867 - val_accuracy: 0.4597\n",
            "Epoch 24/50\n",
            "449/449 [==============================] - 3s 7ms/step - loss: 0.9366 - accuracy: 0.6649 - val_loss: 1.6043 - val_accuracy: 0.4570\n",
            "Model: \"sequential_10\"\n",
            "_________________________________________________________________\n",
            "Layer (type)                 Output Shape              Param #   \n",
            "=================================================================\n",
            "conv2d_20 (Conv2D)           (None, 44, 44, 8)         208       \n",
            "_________________________________________________________________\n",
            "max_pooling2d_20 (MaxPooling (None, 22, 22, 8)         0         \n",
            "_________________________________________________________________\n",
            "conv2d_21 (Conv2D)           (None, 20, 20, 16)        1168      \n",
            "_________________________________________________________________\n",
            "max_pooling2d_21 (MaxPooling (None, 10, 10, 16)        0         \n",
            "_________________________________________________________________\n",
            "flatten_10 (Flatten)         (None, 1600)              0         \n",
            "_________________________________________________________________\n",
            "dense_30 (Dense)             (None, 100)               160100    \n",
            "_________________________________________________________________\n",
            "dense_31 (Dense)             (None, 60)                6060      \n",
            "_________________________________________________________________\n",
            "dense_32 (Dense)             (None, 10)                610       \n",
            "=================================================================\n",
            "Total params: 168,146\n",
            "Trainable params: 168,146\n",
            "Non-trainable params: 0\n",
            "_________________________________________________________________\n"
          ]
        }
      ]
    },
    {
      "cell_type": "markdown",
      "metadata": {
        "id": "8aPjJOgFqWBB"
      },
      "source": [
        "##Evaluation"
      ]
    },
    {
      "cell_type": "code",
      "metadata": {
        "id": "YudjTI1E2reZ"
      },
      "source": [
        "def plot_model(report):\n",
        " figure, axs = plt.subplots(1,2, figsize=(15,10))\n",
        "\n",
        " axs[0].plot(report.history[\"accuracy\"],label=\"Training Accuracy\",color='#d62728')\n",
        " axs[0].plot(report.history['val_accuracy'],label=\"Validation Accuracy\", color='#2ca02c')\n",
        " axs[0].set_title(\"Training Accuracy vs Validation Accuracy\")\n",
        " axs[0].set_ylabel('Accuracy')\n",
        " axs[0].set_xlabel('Epoch')\n",
        " axs[0].legend()\n",
        "\n",
        " axs[1].plot(report.history[\"loss\"],label=\"Training Loss\", color='#7f7f7f')\n",
        " axs[1].plot(report.history[\"val_loss\"],label=\"Validation Loss\", color='#bcbd22')\n",
        " axs[1].set_title(\"Training Loss vs Validation Loss\")\n",
        " axs[1].set_ylabel('Loss')\n",
        " axs[1].set_xlabel('Epoch')\n",
        " axs[1].legend()\n",
        "\n",
        " figure.show()\n"
      ],
      "execution_count": 38,
      "outputs": []
    },
    {
      "cell_type": "code",
      "metadata": {
        "colab": {
          "base_uri": "https://localhost:8080/",
          "height": 621
        },
        "id": "wOmyGtgp2vXN",
        "outputId": "dc1370d5-eb16-46dc-d08e-03d7a2d949eb"
      },
      "source": [
        "plot_model(report)"
      ],
      "execution_count": 49,
      "outputs": [
        {
          "output_type": "display_data",
          "data": {
            "image/png": "[encoded data removed]",
            "text/plain": [
              "<Figure size 1080x720 with 2 Axes>"
            ]
          },
          "metadata": {
            "needs_background": "light"
          }
        }
      ]
    },
    {
      "cell_type": "code",
      "metadata": {
        "id": "LwJb-1T76PC7"
      },
      "source": [
        "from sklearn.metrics import accuracy_score\n",
        "def accuracy_model(m):\n",
        "\n",
        " resultValid=np.argmax(m.predict(validation_imgs), axis=-1)\n",
        " print(f\"Accuracy on Valid set {accuracy_score(validation_labels,resultValid)}\")\n",
        " \n",
        " resultTest=np.argmax(m.predict(test_imgs), axis=-1)\n",
        " print(f\"Accuracy on Test set {accuracy_score(test_labels,resultTest)}\")"
      ],
      "execution_count": 24,
      "outputs": []
    },
    {
      "cell_type": "code",
      "metadata": {
        "id": "m2e2LL9sjNWs"
      },
      "source": [
        "from sklearn.metrics import confusion_matrix\n",
        "import seaborn as sns\n",
        "def confusion_plot(m):\n",
        "  # Compute confusion matrix:\n",
        "  predict = np.argmax(m.predict(validation_imgs), axis=-1)\n",
        "  cm = confusion_matrix(validation_labels, predict)\n",
        "  cm_normalised = cm.astype('float') / cm.sum(axis=1)[:, np.newaxis]\n",
        "  \n",
        "  ax = sns.heatmap(cm_normalised)"
      ],
      "execution_count": 103,
      "outputs": []
    },
    {
      "cell_type": "code",
      "metadata": {
        "colab": {
          "base_uri": "https://localhost:8080/"
        },
        "id": "05nVIMEE6rYE",
        "outputId": "d5f3210a-c1bb-4b36-e466-35169dac07e3"
      },
      "source": [
        "accuracy_model(model)"
      ],
      "execution_count": 25,
      "outputs": [
        {
          "output_type": "stream",
          "name": "stdout",
          "text": [
            "Accuracy on Valid set 0.43159654499860683\n",
            "Accuracy on Test set 0.41877960434661465\n"
          ]
        }
      ]
    },
    {
      "cell_type": "code",
      "metadata": {
        "colab": {
          "base_uri": "https://localhost:8080/",
          "height": 276
        },
        "id": "pxruQ6qRtrC3",
        "outputId": "f4e7c406-4381-4b5f-f063-07483508de30"
      },
      "source": [
        "confusion_plot(model)"
      ],
      "execution_count": 104,
      "outputs": [
        {
          "output_type": "display_data",
          "data": {
            "image/png": "[encoded data removed]",
            "text/plain": [
              "<Figure size 432x288 with 2 Axes>"
            ]
          },
          "metadata": {}
        }
      ]
    },
    {
      "cell_type": "markdown",
      "metadata": {
        "id": "w5sRfOmAtntM"
      },
      "source": [
        "##Visualizing"
      ]
    },
    {
      "cell_type": "code",
      "metadata": {
        "colab": {
          "base_uri": "https://localhost:8080/",
          "height": 248
        },
        "id": "9RhR55zJKC9_",
        "outputId": "94bd682a-7f85-4f9c-c2cc-89d445fcdb24"
      },
      "source": [
        "img = train_imgs[100]\n",
        "plt.imshow(img.reshape((48, 48)), interpolation='none', cmap='gray')\n",
        "plt.axis(\"off\")\n",
        "plt.show()"
      ],
      "execution_count": 70,
      "outputs": [
        {
          "output_type": "display_data",
          "data": {
            "image/png": "[encoded data removed]",
            "text/plain": [
              "<Figure size 432x288 with 1 Axes>"
            ]
          },
          "metadata": {
            "needs_background": "light"
          }
        }
      ]
    },
    {
      "cell_type": "code",
      "metadata": {
        "colab": {
          "base_uri": "https://localhost:8080/"
        },
        "id": "fmg9KqPXMibj",
        "outputId": "dc0b4b03-2a9d-4f1a-e637-3589b3c15244"
      },
      "source": [
        "x = np.expand_dims(img, axis=0)\n",
        "prediction = np.argmax(model.predict(x))\n",
        "print('The predicted emotion is : ' + emotion_names[prediction])"
      ],
      "execution_count": 71,
      "outputs": [
        {
          "output_type": "stream",
          "name": "stdout",
          "text": [
            "The predicted emotion is : Happiness\n"
          ]
        }
      ]
    },
    {
      "cell_type": "code",
      "metadata": {
        "colab": {
          "base_uri": "https://localhost:8080/",
          "height": 248
        },
        "id": "9A_wpcsLvFpW",
        "outputId": "aca4da56-fda7-4b5c-8dc6-f63041ff8cee"
      },
      "source": [
        "img2 = train_imgs[547]\n",
        "plt.imshow(img2.reshape((48, 48)), interpolation='none', cmap='gray')\n",
        "plt.axis(\"off\")\n",
        "plt.show()"
      ],
      "execution_count": 93,
      "outputs": [
        {
          "output_type": "display_data",
          "data": {
            "image/png": "[encoded data removed]",
            "text/plain": [
              "<Figure size 432x288 with 1 Axes>"
            ]
          },
          "metadata": {
            "needs_background": "light"
          }
        }
      ]
    },
    {
      "cell_type": "code",
      "metadata": {
        "colab": {
          "base_uri": "https://localhost:8080/"
        },
        "id": "u4xsb3znvKoB",
        "outputId": "87366264-798a-4ffe-b13f-0363799581ea"
      },
      "source": [
        "x2 = np.expand_dims(img2, axis=0)\n",
        "prediction = np.argmax(model.predict(x2))\n",
        "print('The predicted emotion is : ' + emotion_names[prediction])"
      ],
      "execution_count": 94,
      "outputs": [
        {
          "output_type": "stream",
          "name": "stdout",
          "text": [
            "The predicted emotion is : Neutral\n"
          ]
        }
      ]
    },
    {
      "cell_type": "markdown",
      "metadata": {
        "id": "WZw4QKy3qgSn"
      },
      "source": [
        "##Balancing Case"
      ]
    },
    {
      "cell_type": "code",
      "metadata": {
        "colab": {
          "base_uri": "https://localhost:8080/"
        },
        "id": "UDx0_shu6-T0",
        "outputId": "77a1e834-3609-486c-8aa7-aff34f4fb872"
      },
      "source": [
        "from keras.preprocessing.image import ImageDataGenerator\n",
        "#same layers used\n",
        "model2 = Sequential()\n",
        "model2.add(Conv2D(filters=8, kernel_size=(5, 5), activation='relu'))\n",
        "model2.add(MaxPooling2D())\n",
        "model2.add(Conv2D(filters=16, kernel_size=(3, 3), activation='relu'))\n",
        "model2.add(MaxPooling2D())\n",
        "model2.add(Flatten())\n",
        "model2.add(Dense(units=100, activation='relu'))\n",
        "model2.add(Dense(units=60, activation='relu'))\n",
        "model2.add(Dense(units=10, activation = 'softmax'))\n",
        "model2.compile(loss=\"sparse_categorical_crossentropy\",optimizer=\"adam\",metrics=[\"accuracy\"])\n",
        "\n",
        "datagen = ImageDataGenerator(\n",
        "      width_shift_range=0.1,\n",
        "      height_shift_range=0.1,\n",
        "      shear_range=0.2,\n",
        "      zoom_range=0.2)\n",
        "\n",
        "report2=model2.fit(datagen.flow(train_imgs,train_labels),epochs=50,validation_data=(validation_imgs,validation_labels))\n",
        "model2.summary()\n"
      ],
      "execution_count": 30,
      "outputs": [
        {
          "output_type": "stream",
          "name": "stdout",
          "text": [
            "Epoch 1/50\n",
            "898/898 [==============================] - 19s 20ms/step - loss: 2.0267 - accuracy: 0.2697 - val_loss: 1.6771 - val_accuracy: 0.3410\n",
            "Epoch 2/50\n",
            "898/898 [==============================] - 18s 20ms/step - loss: 1.6975 - accuracy: 0.3225 - val_loss: 1.5890 - val_accuracy: 0.3814\n",
            "Epoch 3/50\n",
            "898/898 [==============================] - 18s 20ms/step - loss: 1.6628 - accuracy: 0.3429 - val_loss: 1.6012 - val_accuracy: 0.3789\n",
            "Epoch 4/50\n",
            "898/898 [==============================] - 18s 20ms/step - loss: 1.6320 - accuracy: 0.3588 - val_loss: 1.5898 - val_accuracy: 0.3717\n",
            "Epoch 5/50\n",
            "898/898 [==============================] - 18s 20ms/step - loss: 1.5915 - accuracy: 0.3819 - val_loss: 1.5260 - val_accuracy: 0.4087\n",
            "Epoch 6/50\n",
            "898/898 [==============================] - 18s 20ms/step - loss: 1.5640 - accuracy: 0.3960 - val_loss: 1.5522 - val_accuracy: 0.4023\n",
            "Epoch 7/50\n",
            "898/898 [==============================] - 18s 20ms/step - loss: 1.5523 - accuracy: 0.3965 - val_loss: 1.5167 - val_accuracy: 0.4060\n",
            "Epoch 8/50\n",
            "898/898 [==============================] - 18s 20ms/step - loss: 1.5298 - accuracy: 0.4086 - val_loss: 1.4317 - val_accuracy: 0.4525\n",
            "Epoch 9/50\n",
            "898/898 [==============================] - 18s 20ms/step - loss: 1.5150 - accuracy: 0.4152 - val_loss: 1.4141 - val_accuracy: 0.4622\n",
            "Epoch 10/50\n",
            "898/898 [==============================] - 18s 20ms/step - loss: 1.5074 - accuracy: 0.4186 - val_loss: 1.4298 - val_accuracy: 0.4561\n",
            "Epoch 11/50\n",
            "898/898 [==============================] - 18s 20ms/step - loss: 1.4858 - accuracy: 0.4245 - val_loss: 1.4206 - val_accuracy: 0.4505\n",
            "Epoch 12/50\n",
            "898/898 [==============================] - 18s 20ms/step - loss: 1.4726 - accuracy: 0.4329 - val_loss: 1.4211 - val_accuracy: 0.4625\n",
            "Epoch 13/50\n",
            "898/898 [==============================] - 18s 20ms/step - loss: 1.4648 - accuracy: 0.4388 - val_loss: 1.3827 - val_accuracy: 0.4667\n",
            "Epoch 14/50\n",
            "898/898 [==============================] - 18s 20ms/step - loss: 1.4503 - accuracy: 0.4408 - val_loss: 1.4078 - val_accuracy: 0.4648\n",
            "Epoch 15/50\n",
            "898/898 [==============================] - 18s 20ms/step - loss: 1.4422 - accuracy: 0.4450 - val_loss: 1.3948 - val_accuracy: 0.4762\n",
            "Epoch 16/50\n",
            "898/898 [==============================] - 18s 20ms/step - loss: 1.4332 - accuracy: 0.4474 - val_loss: 1.4501 - val_accuracy: 0.4511\n",
            "Epoch 17/50\n",
            "898/898 [==============================] - 18s 20ms/step - loss: 1.4307 - accuracy: 0.4514 - val_loss: 1.3887 - val_accuracy: 0.4692\n",
            "Epoch 18/50\n",
            "898/898 [==============================] - 18s 20ms/step - loss: 1.4244 - accuracy: 0.4534 - val_loss: 1.3448 - val_accuracy: 0.4893\n",
            "Epoch 19/50\n",
            "898/898 [==============================] - 18s 20ms/step - loss: 1.4059 - accuracy: 0.4608 - val_loss: 1.3789 - val_accuracy: 0.4834\n",
            "Epoch 20/50\n",
            "898/898 [==============================] - 18s 20ms/step - loss: 1.3969 - accuracy: 0.4634 - val_loss: 1.3452 - val_accuracy: 0.4829\n",
            "Epoch 21/50\n",
            "898/898 [==============================] - 18s 20ms/step - loss: 1.3940 - accuracy: 0.4635 - val_loss: 1.3265 - val_accuracy: 0.4957\n",
            "Epoch 22/50\n",
            "898/898 [==============================] - 18s 20ms/step - loss: 1.3855 - accuracy: 0.4674 - val_loss: 1.3484 - val_accuracy: 0.4834\n",
            "Epoch 23/50\n",
            "898/898 [==============================] - 18s 20ms/step - loss: 1.3826 - accuracy: 0.4678 - val_loss: 1.3440 - val_accuracy: 0.4829\n",
            "Epoch 24/50\n",
            "898/898 [==============================] - 18s 20ms/step - loss: 1.3757 - accuracy: 0.4740 - val_loss: 1.3288 - val_accuracy: 0.5046\n",
            "Epoch 25/50\n",
            "898/898 [==============================] - 18s 20ms/step - loss: 1.3681 - accuracy: 0.4767 - val_loss: 1.3638 - val_accuracy: 0.4812\n",
            "Epoch 26/50\n",
            "898/898 [==============================] - 17s 19ms/step - loss: 1.3672 - accuracy: 0.4789 - val_loss: 1.3243 - val_accuracy: 0.4965\n",
            "Epoch 27/50\n",
            "898/898 [==============================] - 17s 19ms/step - loss: 1.3567 - accuracy: 0.4830 - val_loss: 1.3266 - val_accuracy: 0.4971\n",
            "Epoch 28/50\n",
            "898/898 [==============================] - 18s 20ms/step - loss: 1.3615 - accuracy: 0.4811 - val_loss: 1.3334 - val_accuracy: 0.4974\n",
            "Epoch 29/50\n",
            "898/898 [==============================] - 17s 19ms/step - loss: 1.3522 - accuracy: 0.4828 - val_loss: 1.3356 - val_accuracy: 0.4960\n",
            "Epoch 30/50\n",
            "898/898 [==============================] - 17s 19ms/step - loss: 1.3505 - accuracy: 0.4812 - val_loss: 1.3151 - val_accuracy: 0.4901\n",
            "Epoch 31/50\n",
            "898/898 [==============================] - 18s 20ms/step - loss: 1.3446 - accuracy: 0.4861 - val_loss: 1.3542 - val_accuracy: 0.4926\n",
            "Epoch 32/50\n",
            "898/898 [==============================] - 18s 20ms/step - loss: 1.3341 - accuracy: 0.4891 - val_loss: 1.2907 - val_accuracy: 0.5088\n",
            "Epoch 33/50\n",
            "898/898 [==============================] - 18s 20ms/step - loss: 1.3347 - accuracy: 0.4897 - val_loss: 1.3096 - val_accuracy: 0.4962\n",
            "Epoch 34/50\n",
            "898/898 [==============================] - 18s 20ms/step - loss: 1.3329 - accuracy: 0.4923 - val_loss: 1.3142 - val_accuracy: 0.4971\n",
            "Epoch 35/50\n",
            "898/898 [==============================] - 18s 20ms/step - loss: 1.3299 - accuracy: 0.4925 - val_loss: 1.3163 - val_accuracy: 0.5035\n",
            "Epoch 36/50\n",
            "898/898 [==============================] - 17s 19ms/step - loss: 1.3237 - accuracy: 0.4941 - val_loss: 1.3023 - val_accuracy: 0.5024\n",
            "Epoch 37/50\n",
            "898/898 [==============================] - 17s 19ms/step - loss: 1.3216 - accuracy: 0.4949 - val_loss: 1.3114 - val_accuracy: 0.5007\n",
            "Epoch 38/50\n",
            "898/898 [==============================] - 17s 19ms/step - loss: 1.3242 - accuracy: 0.4944 - val_loss: 1.2803 - val_accuracy: 0.5091\n",
            "Epoch 39/50\n",
            "898/898 [==============================] - 17s 19ms/step - loss: 1.3158 - accuracy: 0.4965 - val_loss: 1.2905 - val_accuracy: 0.5088\n",
            "Epoch 40/50\n",
            "898/898 [==============================] - 17s 19ms/step - loss: 1.3113 - accuracy: 0.5012 - val_loss: 1.3231 - val_accuracy: 0.4990\n",
            "Epoch 41/50\n",
            "898/898 [==============================] - 17s 19ms/step - loss: 1.3095 - accuracy: 0.5027 - val_loss: 1.2975 - val_accuracy: 0.5143\n",
            "Epoch 42/50\n",
            "898/898 [==============================] - 17s 19ms/step - loss: 1.3131 - accuracy: 0.4999 - val_loss: 1.3085 - val_accuracy: 0.5065\n",
            "Epoch 43/50\n",
            "898/898 [==============================] - 17s 19ms/step - loss: 1.3100 - accuracy: 0.5030 - val_loss: 1.3093 - val_accuracy: 0.5052\n",
            "Epoch 44/50\n",
            "898/898 [==============================] - 17s 19ms/step - loss: 1.3046 - accuracy: 0.5015 - val_loss: 1.3059 - val_accuracy: 0.5082\n",
            "Epoch 45/50\n",
            "898/898 [==============================] - 17s 19ms/step - loss: 1.3054 - accuracy: 0.5010 - val_loss: 1.2924 - val_accuracy: 0.5107\n",
            "Epoch 46/50\n",
            "898/898 [==============================] - 17s 19ms/step - loss: 1.2966 - accuracy: 0.5037 - val_loss: 1.2999 - val_accuracy: 0.5132\n",
            "Epoch 47/50\n",
            "898/898 [==============================] - 17s 19ms/step - loss: 1.2926 - accuracy: 0.5077 - val_loss: 1.3212 - val_accuracy: 0.5010\n",
            "Epoch 48/50\n",
            "898/898 [==============================] - 17s 19ms/step - loss: 1.2913 - accuracy: 0.5084 - val_loss: 1.3058 - val_accuracy: 0.5060\n",
            "Epoch 49/50\n",
            "898/898 [==============================] - 18s 20ms/step - loss: 1.2924 - accuracy: 0.5058 - val_loss: 1.2901 - val_accuracy: 0.5196\n",
            "Epoch 50/50\n",
            "898/898 [==============================] - 18s 20ms/step - loss: 1.2901 - accuracy: 0.5086 - val_loss: 1.3239 - val_accuracy: 0.4962\n",
            "Model: \"sequential_2\"\n",
            "_________________________________________________________________\n",
            "Layer (type)                 Output Shape              Param #   \n",
            "=================================================================\n",
            "conv2d_4 (Conv2D)            (None, None, None, 8)     208       \n",
            "_________________________________________________________________\n",
            "max_pooling2d_4 (MaxPooling2 (None, None, None, 8)     0         \n",
            "_________________________________________________________________\n",
            "conv2d_5 (Conv2D)            (None, None, None, 16)    1168      \n",
            "_________________________________________________________________\n",
            "max_pooling2d_5 (MaxPooling2 (None, None, None, 16)    0         \n",
            "_________________________________________________________________\n",
            "flatten_2 (Flatten)          (None, None)              0         \n",
            "_________________________________________________________________\n",
            "dense_6 (Dense)              (None, 100)               160100    \n",
            "_________________________________________________________________\n",
            "dense_7 (Dense)              (None, 60)                6060      \n",
            "_________________________________________________________________\n",
            "dense_8 (Dense)              (None, 10)                610       \n",
            "=================================================================\n",
            "Total params: 168,146\n",
            "Trainable params: 168,146\n",
            "Non-trainable params: 0\n",
            "_________________________________________________________________\n"
          ]
        }
      ]
    },
    {
      "cell_type": "markdown",
      "metadata": {
        "id": "RwQbPP_oqkj7"
      },
      "source": [
        "##Balacing Evaluation"
      ]
    },
    {
      "cell_type": "code",
      "metadata": {
        "colab": {
          "base_uri": "https://localhost:8080/"
        },
        "id": "4AjNHE4o7Q3Q",
        "outputId": "5867e505-9219-47d8-ca23-16eb7abdbbf0"
      },
      "source": [
        "accuracy_model(model2)"
      ],
      "execution_count": 33,
      "outputs": [
        {
          "output_type": "stream",
          "name": "stdout",
          "text": [
            "Accuracy on Valid set 0.4962385065477849\n",
            "Accuracy on Test set 0.5084981889105601\n"
          ]
        }
      ]
    },
    {
      "cell_type": "code",
      "metadata": {
        "colab": {
          "base_uri": "https://localhost:8080/",
          "height": 621
        },
        "id": "EB5DSdHqITgf",
        "outputId": "5221d95e-6867-41d9-e872-bf4d29ba68f2"
      },
      "source": [
        "plot_model(report2)"
      ],
      "execution_count": 34,
      "outputs": [
        {
          "output_type": "display_data",
          "data": {
            "image/png": "[encoded data removed]",
            "text/plain": [
              "<Figure size 1080x720 with 2 Axes>"
            ]
          },
          "metadata": {
            "needs_background": "light"
          }
        }
      ]
    },
    {
      "cell_type": "code",
      "metadata": {
        "colab": {
          "base_uri": "https://localhost:8080/",
          "height": 276
        },
        "id": "VjP9dwdhzstm",
        "outputId": "1053db58-05f0-49b9-c588-70eb90dfd7ba"
      },
      "source": [
        "confusion_plot(model2)"
      ],
      "execution_count": 105,
      "outputs": [
        {
          "output_type": "display_data",
          "data": {
            "image/png": "[encoded data removed]",
            "text/plain": [
              "<Figure size 432x288 with 2 Axes>"
            ]
          },
          "metadata": {}
        }
      ]
    },
    {
      "cell_type": "markdown",
      "metadata": {
        "id": "IUwRKgy9_2v0"
      },
      "source": [
        "## Conclusion"
      ]
    },
    {
      "cell_type": "markdown",
      "metadata": {
        "id": "tyFKzur0igKE"
      },
      "source": [
        "When I applied the augmentation model the validation accuracy changed from approx 69% to approx 75%.\n",
        "It is clealry visible that the augmentation model is good because it removes the overfitting issue. Moreover, it handles noise data very well.\n",
        "Additionally, Non augmentation does not have enough data but with augmentation we produces more unseen data and fitted into the neural network. Moreover, with the help of more layers and fine tuning we will get more better results."
      ]
    }
  ]
}